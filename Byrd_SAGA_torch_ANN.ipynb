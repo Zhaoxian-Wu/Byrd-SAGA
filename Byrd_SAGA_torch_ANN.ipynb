{
 "cells": [
  {
   "cell_type": "markdown",
   "metadata": {},
   "source": [
    "# 基本定义"
   ]
  },
  {
   "cell_type": "code",
   "execution_count": 3,
   "metadata": {},
   "outputs": [],
   "source": [
    "import math\n",
    "import matplotlib.pyplot as plt\n",
    "import numpy as np\n",
    "import os\n",
    "import random\n",
    "import time\n",
    "import pickle"
   ]
  },
  {
   "cell_type": "code",
   "execution_count": 4,
   "metadata": {},
   "outputs": [],
   "source": [
    "# Load all necessary modules here, for clearness\n",
    "import torch\n",
    "import torch.nn as nn\n",
    "import torch.nn.functional as F\n",
    "import torch.optim as optim\n",
    "# from torchvision.datasets import MNIST\n",
    "import torchvision\n",
    "from torchvision import transforms\n",
    "from torch.optim import lr_scheduler\n",
    "import matplotlib.pyplot as plt"
   ]
  },
  {
   "cell_type": "markdown",
   "metadata": {},
   "source": [
    "## 数据集/模型"
   ]
  },
  {
   "cell_type": "markdown",
   "metadata": {},
   "source": [
    "### MLP + MNIST"
   ]
  },
  {
   "cell_type": "code",
   "execution_count": 41,
   "metadata": {},
   "outputs": [],
   "source": [
    "# MLP\n",
    "optConfig = {\n",
    "    'honestSize': 50,\n",
    "    'byzantineSize': 20,\n",
    "\n",
    "    'rounds': 15,\n",
    "    'displayInterval': 1000,\n",
    "\n",
    "    'weight_decay': 0.00,\n",
    "    \n",
    "    'fixSeed': False,\n",
    "    'SEED': 100,\n",
    "    \n",
    "    'batchSize': 5,\n",
    "    'shuffle': True,\n",
    "}\n",
    "\n",
    "# 数据集属性\n",
    "dataSetConfig = {\n",
    "    'name': 'mnist',\n",
    "\n",
    "    'dataSet' : 'mnist',\n",
    "    'dataSetSize': 60000,\n",
    "    'maxFeature': 784,\n",
    "\n",
    "    'honestNodeSize': 50,\n",
    "    'byzantineNodeSize': 20,\n",
    "\n",
    "    'rounds': 15,\n",
    "    'displayInterval': 1000,\n",
    "}\n",
    "\n",
    "SGDConfig = optConfig.copy()\n",
    "SGDConfig['gamma'] = 1e-1\n",
    "\n",
    "batchConfig = optConfig.copy()\n",
    "batchConfig['batchSize'] = 50\n",
    "batchConfig['gamma'] = 5e-1\n",
    "\n",
    "SVRGConfig = optConfig.copy()\n",
    "SVRGConfig['snapshotInterval'] = dataSetConfig['dataSetSize']\n",
    "SVRGConfig['gamma'] = 1e-1\n",
    "\n",
    "SAGAConfig = optConfig.copy()\n",
    "SAGAConfig['gamma'] = 1e-1\n",
    "\n",
    "SARAHConfig = optConfig.copy()\n",
    "SARAHConfig['gamma'] = 1e-1\n",
    "\n",
    "# 加载数据集\n",
    "train_transform = transforms.Compose([\n",
    "    transforms.ToTensor(), # Convert a PIL Image or numpy.ndarray to tensor.\n",
    "    # Normalize a tensor image with mean 0.1307 and standard deviation 0.3081\n",
    "    transforms.Normalize((0.1307,), (0.3081,))\n",
    "])\n",
    "test_transform = transforms.Compose([\n",
    "    transforms.ToTensor(),\n",
    "    transforms.Normalize((0.1307,), (0.3081,))\n",
    "])\n",
    "train_dataset = torchvision.datasets.MNIST(root='./dataset/', \n",
    "                            train=True, \n",
    "                            transform=train_transform,\n",
    "                            download=False)\n",
    "validate_dataset = torchvision.datasets.MNIST(root='./dataset/', \n",
    "                           train=False, \n",
    "                           transform=test_transform,\n",
    "                           download=False)\n",
    "\n",
    "# 模型\n",
    "class MLP(nn.Module):\n",
    "    \"\"\"\n",
    "    Inputs                Linear/Function        Output\n",
    "    [128, 1, 28, 28]   -> Linear(28*28, 100) -> [128, 100]  # first hidden layer\n",
    "                       -> ReLU               -> [128, 100]  # relu activation function, may sigmoid\n",
    "                       -> Linear(100, 100)   -> [128, 100]  # third hidden layer\n",
    "                       -> ReLU               -> [128, 100]  # relu activation function, may sigmoid\n",
    "                       -> Linear(100, 10)    -> [128, 10]   # Classification Layer                                                          \n",
    "   \"\"\"\n",
    "    def __init__(self, input_size, hidden_size, output_size, SEED=100):\n",
    "        super(MLP, self).__init__()\n",
    "        self.hidden = nn.Linear(input_size, hidden_size)\n",
    "        self.classification_layer = nn.Linear(hidden_size, output_size)\n",
    "        \n",
    "        self.relu1 = nn.Tanh()\n",
    "        self.relu2 = nn.Tanh()\n",
    "        \n",
    "        self.softmax = nn.Softmax(dim=1)\n",
    "#         self.relu1 = nn.ReLU()\n",
    "#         self.relu2 = nn.ReLU()\n",
    "        \n",
    "#         torch.manual_seed(SEED)#为CPU设置随机种子\n",
    "#         model = local_models[0]\n",
    "#         for p in model.parameters():\n",
    "#             torch.nn.init.normal_(p, mean=0, std=2/p.numel())\n",
    "        \n",
    "    def forward(self, x):\n",
    "        \"\"\"Defines the computation performed at every call.\n",
    "           Should be overridden by all subclasses.\n",
    "        Args:\n",
    "            x: [batch_size, channel, height, width], input for network\n",
    "        Returns:\n",
    "            out: [batch_size, n_classes], output from network\n",
    "        \"\"\"\n",
    "        \n",
    "        out = x.view(x.size(0), -1) # flatten x in [128, 784]\n",
    "        out = self.relu1(out)\n",
    "        out = self.hidden(out)\n",
    "        out = self.relu2(out)\n",
    "        out = self.classification_layer(out)\n",
    "        out = self.softmax(out)\n",
    "        return out\n",
    "    \n",
    "# 模型工厂\n",
    "def modelFactory(SEED=100):\n",
    "    return MLP(784, 50, 10)"
   ]
  },
  {
   "cell_type": "markdown",
   "metadata": {},
   "source": [
    "### ResNet + CIFAR10"
   ]
  },
  {
   "cell_type": "code",
   "execution_count": 11,
   "metadata": {},
   "outputs": [],
   "source": [
    "# # ResNet50 + CIFAR10\n",
    "# optConfig = {\n",
    "#     'honestSize': 10,\n",
    "#     'byzantineSize': 4,\n",
    "\n",
    "#     'rounds': 15,\n",
    "#     'displayInterval': 6000,\n",
    "    \n",
    "#     'weight_decay': 0.0001,\n",
    "    \n",
    "#     'fixSeed': False,\n",
    "#     'SEED': 100,\n",
    "    \n",
    "#     'batchSize': 5,\n",
    "#     'shuffle': True,\n",
    "# }\n",
    "\n",
    "# SGDConfig = optConfig.copy()\n",
    "# SGDConfig['gamma'] = 1e-1\n",
    "\n",
    "# batchConfig = optConfig.copy()\n",
    "# batchConfig['batchSize'] = 50\n",
    "# batchConfig['gamma'] = 5e-1\n",
    "\n",
    "# SVRGConfig = optConfig.copy()\n",
    "# SVRGConfig['snapshotInterval'] = dataSetConfig['dataSetSize']\n",
    "# SVRGConfig['gamma'] = 1e-1\n",
    "\n",
    "# SAGAConfig = optConfig.copy()\n",
    "# SAGAConfig['gamma'] = 1e-1\n",
    "\n",
    "# SARAHConfig = optConfig.copy()\n",
    "# SARAHConfig['gamma'] = 1e-1\n",
    "\n",
    "# # 数据集属性\n",
    "# dataSetConfig = {\n",
    "#     'name': 'CIFAR-10',\n",
    "\n",
    "#     'dataSet' : 'CIFAR-10',\n",
    "#     'dataSetSize': 60000,\n",
    "#     'maxFeature': 32*32*3,\n",
    "# }\n",
    "\n",
    "# # 加载数据集\n",
    "# preprocess = transforms.Compose([\n",
    "#     transforms.Resize(256),\n",
    "#     transforms.CenterCrop(224),\n",
    "#     transforms.ToTensor(),\n",
    "#     transforms.Normalize(mean=[0.485, 0.456, 0.406], std=[0.229, 0.224, 0.225]),\n",
    "# ])\n",
    "# train_dataset = torchvision.datasets.CIFAR10(root='./dataset/',\n",
    "#                                              train=True, \n",
    "#                                              transform=preprocess,\n",
    "#                                              download=False)\n",
    "# validate_dataset = torchvision.datasets.CIFAR10(root='./dataset/',\n",
    "#                                             train=False, \n",
    "#                                             transform=preprocess)\n",
    "\n",
    "# 模型工厂\n",
    "# def modelFactory(SEED=100):\n",
    "#     return torchvision.models.resnet50()"
   ]
  },
  {
   "cell_type": "markdown",
   "metadata": {},
   "source": [
    "## 运行参数"
   ]
  },
  {
   "cell_type": "code",
   "execution_count": 20,
   "metadata": {},
   "outputs": [],
   "source": [
    "CACHE_DIR = './cache/' + dataSetConfig['name'] + '_'"
   ]
  },
  {
   "cell_type": "code",
   "execution_count": 21,
   "metadata": {},
   "outputs": [],
   "source": [
    "device = 'cuda:0'"
   ]
  },
  {
   "cell_type": "markdown",
   "metadata": {},
   "source": [
    "## 辅助函数"
   ]
  },
  {
   "cell_type": "code",
   "execution_count": 22,
   "metadata": {},
   "outputs": [],
   "source": [
    "# 报告函数\n",
    "def log(*k, **kw):\n",
    "    timeStamp = time.strftime('[%m-%d %H:%M:%S] ', time.localtime())\n",
    "    print(timeStamp, end='')\n",
    "    print(*k, **kw)\n",
    "def debug(*k, **kw):\n",
    "    timeStamp = time.strftime('[%m-%d %H:%M:%S] (debug)', time.localtime())\n",
    "    print(timeStamp, end='')\n",
    "    print(*k, **kw)"
   ]
  },
  {
   "cell_type": "markdown",
   "metadata": {},
   "source": [
    "## 损失函数"
   ]
  },
  {
   "cell_type": "code",
   "execution_count": 23,
   "metadata": {},
   "outputs": [],
   "source": [
    "loss_func = torch.nn.CrossEntropyLoss()"
   ]
  },
  {
   "cell_type": "code",
   "execution_count": 24,
   "metadata": {},
   "outputs": [],
   "source": [
    "def getVarience(w_local, honestSize):\n",
    "    avg = w_local[:honestSize].mean(dim=0)\n",
    "    s = 0\n",
    "    for w in w_local[:honestSize]:\n",
    "        s += (w - avg).norm()**2\n",
    "    s /= honestSize\n",
    "    return s.item()"
   ]
  },
  {
   "cell_type": "code",
   "execution_count": 25,
   "metadata": {},
   "outputs": [],
   "source": [
    "def calculateAccuracy(model, loader, device):\n",
    "    loss = 0\n",
    "    accuracy = 0\n",
    "    total = 0\n",
    "    \n",
    "    for material, targets in loader:\n",
    "        material, targets = material.to(device), targets.to(device)\n",
    "        outputs = model(material)\n",
    "        \n",
    "        l = loss_func(outputs, targets)\n",
    "\n",
    "        loss += l.item() * len(targets)\n",
    "        _, predicted = torch.max(outputs.data, dim=1)\n",
    "        accuracy += (predicted == targets).sum().item()\n",
    "        total += len(targets)\n",
    "    \n",
    "    loss /= total\n",
    "    accuracy /= total\n",
    "    \n",
    "    return loss, accuracy"
   ]
  },
  {
   "cell_type": "markdown",
   "metadata": {},
   "source": [
    "## 聚合函数"
   ]
  },
  {
   "cell_type": "code",
   "execution_count": 26,
   "metadata": {},
   "outputs": [],
   "source": [
    "def mean(wList):\n",
    "    return torch.mean(wList, dim=0)"
   ]
  },
  {
   "cell_type": "code",
   "execution_count": 27,
   "metadata": {},
   "outputs": [],
   "source": [
    "def gm(wList):\n",
    "    max_iter = 80\n",
    "    tol = 1e-5\n",
    "    guess = torch.mean(wList, dim=0)\n",
    "    for _ in range(max_iter):\n",
    "        dist_li = torch.norm(wList-guess, dim=1)\n",
    "        for i in range(len(dist_li)):\n",
    "            if dist_li[i] == 0:\n",
    "                dist_li[i] = 1\n",
    "        temp1 = torch.sum(torch.stack([w/d for w, d in zip(wList, dist_li)]), dim=0)\n",
    "        temp2 = torch.sum(1/dist_li)\n",
    "        guess_next = temp1 / temp2\n",
    "        guess_movement = torch.norm(guess - guess_next)\n",
    "        guess = guess_next\n",
    "        if guess_movement <= tol:\n",
    "            break\n",
    "    return guess"
   ]
  },
  {
   "cell_type": "code",
   "execution_count": 28,
   "metadata": {},
   "outputs": [],
   "source": [
    "def Krum_(nodeSize, byzantineSize):\n",
    "    honestSize = nodeSize - byzantineSize\n",
    "    dist = torch.zeros(nodeSize, nodeSize, dtype=torch.float32)\n",
    "    def Krum(wList):\n",
    "        for i in range(nodeSize):\n",
    "            for j in range(i, nodeSize):\n",
    "                distance = wList[i].data - wList[j].data\n",
    "                distance = (distance*distance).sum()\n",
    "                dist[i][j] = distance.data\n",
    "                dist[j][i] = distance.data\n",
    "        k = nodeSize - byzantineSize - 2 + 1 # 算上自己和自己的0.00\n",
    "        topv, _ = dist.topk(k=k, dim=1)\n",
    "        sumdist = -topv.sum(dim=1)\n",
    "        resindex = sumdist.topk(1)[1].squeeze()\n",
    "        return wList[resindex]\n",
    "    return Krum"
   ]
  },
  {
   "cell_type": "code",
   "execution_count": 29,
   "metadata": {},
   "outputs": [],
   "source": [
    "def median(wList):\n",
    "    return wList.median(dim=0)[0]"
   ]
  },
  {
   "cell_type": "markdown",
   "metadata": {},
   "source": [
    "## torch辅助函数"
   ]
  },
  {
   "cell_type": "code",
   "execution_count": 30,
   "metadata": {},
   "outputs": [],
   "source": [
    "def flatten_list(message, byzantineSize):\n",
    "    wList = [torch.cat([p.flatten() for p in parameters]) for parameters in message]\n",
    "    wList.extend([torch.zeros_like(wList[0]) for _ in range(byzantineSize)])\n",
    "    wList = torch.stack(wList)\n",
    "    return wList\n",
    "def unflatten_vector(vector, model):\n",
    "    paraGroup = []\n",
    "    cum = 0\n",
    "    for p in model.parameters():\n",
    "        newP = vector[cum:cum+p.numel()]\n",
    "        paraGroup.append(newP.view_as(p))\n",
    "        cum += p.numel()\n",
    "    return paraGroup"
   ]
  },
  {
   "cell_type": "code",
   "execution_count": 31,
   "metadata": {},
   "outputs": [],
   "source": [
    "def randomSample(dataset, batchSize):\n",
    "    m, t = zip(*random.sample(dataset, batchSize))\n",
    "    material, targets = torch.cat(m), torch.tensor(t)\n",
    "    return material, targets"
   ]
  },
  {
   "cell_type": "code",
   "execution_count": 32,
   "metadata": {},
   "outputs": [],
   "source": [
    "def getPara(module, useString=True):\n",
    "    para = sum([x.nelement() for x in module.parameters()])\n",
    "    if not useString:\n",
    "        return para\n",
    "    elif para >= 2**20:\n",
    "        return '{:.2f}M'.format(para / 2**20)\n",
    "    elif para >= 2**10:\n",
    "        return '{:.2f}K'.format(para / 2**10)\n",
    "    else:\n",
    "        return str(para)"
   ]
  },
  {
   "cell_type": "markdown",
   "metadata": {},
   "source": [
    "# 优化算法"
   ]
  },
  {
   "cell_type": "markdown",
   "metadata": {},
   "source": [
    "报告函数"
   ]
  },
  {
   "cell_type": "code",
   "execution_count": 33,
   "metadata": {},
   "outputs": [],
   "source": [
    "def report(r, rounds, displayInterval, trainLoss, trainAccuracy, valLoss, valAccuracy, var=None):\n",
    "    varStr = '' if (var == None) else ' var={:.2e}'.format(var)\n",
    "    log('[{}/{}](interval: {:.0f}) train: loss={:.4f} acc={:.2f} val: loss={:.4f} acc={:.2f}{}'\n",
    "        .format(r, rounds, displayInterval, trainLoss, trainAccuracy, valLoss, valAccuracy, varStr)\n",
    "    )"
   ]
  },
  {
   "cell_type": "markdown",
   "metadata": {},
   "source": [
    "## CentralSGD"
   ]
  },
  {
   "cell_type": "code",
   "execution_count": 34,
   "metadata": {
    "code_folding": []
   },
   "outputs": [],
   "source": [
    "def CentralSGD(model, gamma, aggregate, weight_decay, attack=None, \n",
    "          rounds=10, displayInterval=1000, \n",
    "          device='cpu', SEED=100, fixSeed=False, \n",
    "          batchSize=1,\n",
    "          **kw):\n",
    "    if fixSeed:\n",
    "        random.seed(SEED)\n",
    "\n",
    "    # 顺序遍历loader\n",
    "    train_loader = torch.utils.data.DataLoader(dataset=train_dataset, batch_size=batchSize, shuffle=False)\n",
    "    validate_loader = torch.utils.data.DataLoader(dataset=validate_dataset, batch_size=batchSize, shuffle=False)\n",
    "\n",
    "    # 随机取样器\n",
    "    randomSampler = torch.utils.data.sampler.RandomSampler(\n",
    "        train_dataset, \n",
    "        num_samples=rounds*displayInterval*batchSize, \n",
    "        replacement=True\n",
    "    )\n",
    "    train_random_loader = torch.utils.data.DataLoader(\n",
    "        dataset=train_dataset,\n",
    "        batch_size=batchSize, \n",
    "        sampler=randomSampler,\n",
    "    )\n",
    "    randomIter = iter(train_random_loader)\n",
    "    \n",
    "    # 求初始误差\n",
    "    trainLoss, trainAccuracy = calculateAccuracy(model, train_loader, device)\n",
    "    valLoss, valAccuracy = calculateAccuracy(model, validate_loader, device)\n",
    "\n",
    "    trainLossPath = [trainLoss]\n",
    "    trainAccPath = [trainAccuracy]\n",
    "    valLossPath = [valLoss]\n",
    "    valAccPath = [valAccuracy]\n",
    "    \n",
    "    report(0, rounds, displayInterval, trainLoss, trainAccuracy, valLoss, valAccuracy)\n",
    "\n",
    "    for r in range(rounds):\n",
    "        model.train()\n",
    "        for k in range(displayInterval):\n",
    "            # 读取数据\n",
    "            material, targets = next(randomIter)\n",
    "            material, targets = material.to(device), targets.to(device)\n",
    "\n",
    "            # 随机梯度\n",
    "            # --------------------\n",
    "            # 预测\n",
    "            outputs = model(material)\n",
    "            loss = loss_func(outputs, targets)\n",
    "            # 反向传播\n",
    "            model.zero_grad()\n",
    "            loss.backward()\n",
    "\n",
    "            # 更新\n",
    "            for para in model.parameters():\n",
    "                para.data.add_(-gamma, para.grad)\n",
    "                para.data.add_(-weight_decay, para)\n",
    "        \n",
    "        \n",
    "        model.eval()\n",
    "        trainLoss, trainAccuracy = calculateAccuracy(model, train_loader, device)\n",
    "        valLoss, valAccuracy = calculateAccuracy(model, validate_loader, device)\n",
    "\n",
    "        trainLossPath.append(trainLoss)\n",
    "        trainAccPath.append(trainAccuracy)\n",
    "        valLossPath.append(valLoss)\n",
    "        valAccPath.append(valAccuracy)\n",
    "\n",
    "        report(r+1, rounds, displayInterval, trainLoss, trainAccuracy, valLoss, valAccuracy)\n",
    "    return model, trainLossPath, trainAccPath, valLossPath, valAccPath, []"
   ]
  },
  {
   "cell_type": "markdown",
   "metadata": {},
   "source": [
    "## Central SARAH"
   ]
  },
  {
   "cell_type": "code",
   "execution_count": 37,
   "metadata": {
    "code_folding": []
   },
   "outputs": [],
   "source": [
    "def CentralSARAH(model, gamma, aggregate, weight_decay, \n",
    "          snapshotInterval=len(train_dataset),\n",
    "          rounds=10, displayInterval=1000, \n",
    "          device='cpu', SEED=100, fixSeed=False, \n",
    "          batchSize=5,\n",
    "          **kw):\n",
    "    \n",
    "    if fixSeed:\n",
    "        random.seed(SEED)\n",
    "    \n",
    "    # 初始化模型\n",
    "    lastModel = modelFactory(SEED=SEED)\n",
    "    lastModel = lastModel.to(device)\n",
    "\n",
    "    # 随机的停止期限\n",
    "    randomStop = 1\n",
    "    \n",
    "    # 顺序遍历loader\n",
    "    train_loader = torch.utils.data.DataLoader(dataset=train_dataset, batch_size=batchSize, shuffle=False)\n",
    "    validate_loader = torch.utils.data.DataLoader(dataset=validate_dataset, batch_size=batchSize, shuffle=False)\n",
    "    \n",
    "    # 随机取样器\n",
    "    randomSampler = torch.utils.data.sampler.RandomSampler(\n",
    "        train_dataset, \n",
    "        num_samples=rounds*displayInterval*batchSize, \n",
    "        replacement=True\n",
    "    )\n",
    "    randomLoader = torch.utils.data.DataLoader(\n",
    "        dataset=train_dataset,\n",
    "        batch_size=batchSize, \n",
    "        sampler=randomSampler,\n",
    "    )\n",
    "    randomIter = iter(randomLoader)\n",
    "    \n",
    "    # 求初始误差\n",
    "    trainLoss, trainAccuracy = calculateAccuracy(model, train_loader, device)\n",
    "    valLoss, valAccuracy = calculateAccuracy(model, validate_loader, device)\n",
    "    \n",
    "    trainLossPath = [trainLoss]\n",
    "    trainAccPath = [trainAccuracy]\n",
    "    valLossPath = [valLoss]\n",
    "    valAccPath = [valAccuracy]\n",
    "    \n",
    "    log('[SARAH]初始 train: loss={:.6f} accuracy={:.2f} validation: loss={:.6f} accuracy={:.2f}'\n",
    "        .format(trainLossPath[0], trainAccPath[0], valLossPath[0], valAccPath[0])\n",
    "    )\n",
    "\n",
    "    gradients = [torch.zeros_like(para, requires_grad=False) for para in model.parameters()]\n",
    "    \n",
    "    for r in range(rounds):\n",
    "        for k in range(displayInterval):\n",
    "            # snapshot\n",
    "            if (r*displayInterval + k) % randomStop == 0:\n",
    "                # 清空旧梯度\n",
    "                for grad in gradients:\n",
    "                    grad.zero_()\n",
    "                for material, targets in train_loader:\n",
    "                    material, targets = material.to(device), targets.to(device)\n",
    "                    # 预测\n",
    "                    outputs = model(material)\n",
    "                    loss = loss_func(outputs, targets)\n",
    "                    # 反向传播\n",
    "                    model.zero_grad()\n",
    "                    loss.backward()\n",
    "\n",
    "                    for grad, para in zip(gradients, model.parameters()):\n",
    "                        grad.data.add_(1/len(train_loader), para.grad.data)\n",
    "                for grad, para in zip(gradients, model.parameters()):\n",
    "                    grad.data.add_(weight_decay, para.data)\n",
    "                \n",
    "                # 保存旧结果\n",
    "                for oldPara, newPara in zip(lastModel.parameters(), model.parameters()):\n",
    "                    oldPara.data.copy_(newPara)\n",
    "                # 更新\n",
    "                for para, grad in zip(model.parameters(), gradients):\n",
    "                    para.data.add_(-gamma, grad)\n",
    "                # 指定下一次停止时间\n",
    "                randomStop = random.randint(1, snapshotInterval-1)\n",
    "                \n",
    "            # 更新\n",
    "            # 读取数据\n",
    "            material, targets = next(randomIter)\n",
    "            material, targets = material.to(device), targets.to(device)\n",
    "\n",
    "            # 随机梯度\n",
    "            # --------------------\n",
    "            # 预测\n",
    "            outputs = model(material)\n",
    "            loss = loss_func(outputs, targets)\n",
    "            # 反向传播\n",
    "            model.zero_grad()\n",
    "            loss.backward()\n",
    "\n",
    "            # 修正梯度\n",
    "            # --------------------\n",
    "            # 预测\n",
    "            outputs = lastModel(material)\n",
    "            loss = loss_func(outputs, targets)\n",
    "            # 反向传播\n",
    "            lastModel.zero_grad()\n",
    "            loss.backward()\n",
    "\n",
    "            # 更新梯度表\n",
    "            for pi, para in enumerate(model.parameters()):\n",
    "                gradients[pi].data.add_(1, para.grad.data)\n",
    "                gradients[pi].data.add_(weight_decay, para)\n",
    "            for pi, para in enumerate(lastModel.parameters()):\n",
    "                gradients[pi].data.sub_(1, para.grad.data)\n",
    "                gradients[pi].data.sub_(weight_decay, para)\n",
    "\n",
    "            # 保存旧结果\n",
    "            for oldPara, newPara in zip(lastModel.parameters(), model.parameters()):\n",
    "                oldPara.data.copy_(newPara)\n",
    "            # 更新\n",
    "            for para, grad in zip(model.parameters(), gradients):\n",
    "                para.data.add_(-gamma, grad)\n",
    "  \n",
    "        trainLoss, trainAccuracy = calculateAccuracy(model, train_loader, device)\n",
    "        valLoss, valAccuracy = calculateAccuracy(model, validate_loader, device)\n",
    "\n",
    "        trainLossPath.append(trainLoss)\n",
    "        trainAccPath.append(trainAccuracy)\n",
    "        valLossPath.append(valLoss)\n",
    "        valAccPath.append(valAccuracy)\n",
    "        \n",
    "        report(r+1, rounds, displayInterval, trainLoss, trainAccuracy, valLoss, valAccuracy)\n",
    "    return model, trainLossPath, trainAccPath, valLossPath, valAccPath, []"
   ]
  },
  {
   "cell_type": "markdown",
   "metadata": {},
   "source": [
    "## SGD"
   ]
  },
  {
   "cell_type": "code",
   "execution_count": 25,
   "metadata": {
    "code_folding": []
   },
   "outputs": [],
   "source": [
    "def SGD(model, gamma, aggregate, weight_decay, \n",
    "          honestSize=0, byzantineSize=0, attack=None, \n",
    "          rounds=10, displayInterval=1000, \n",
    "          device='cpu', SEED=100, fixSeed=False, \n",
    "          batchSize=5,\n",
    "          **kw):\n",
    "    assert byzantineSize == 0 or attack != None\n",
    "    assert honestSize != 0\n",
    "    \n",
    "    if fixSeed:\n",
    "        random.seed(SEED)\n",
    "\n",
    "    nodeSize = honestSize + byzantineSize\n",
    "\n",
    "    # 数据分片\n",
    "    pieces = [(i*len(train_dataset)) // honestSize for i in range(honestSize+1)]\n",
    "    dataPerNode = [pieces[i+1] - pieces[i] for i in range(honestSize)]\n",
    "\n",
    "    # 回复的消息\n",
    "    message = [\n",
    "        [torch.zeros_like(para, requires_grad=False) for para in model.parameters()]\n",
    "        for _ in range(nodeSize)\n",
    "    ]\n",
    "    \n",
    "    # 顺序遍历loader\n",
    "    train_loader = torch.utils.data.DataLoader(dataset=train_dataset, batch_size=batchSize, shuffle=False)\n",
    "    validate_loader = torch.utils.data.DataLoader(dataset=validate_dataset, batch_size=batchSize, shuffle=False)\n",
    "    \n",
    "    train_dataset_subset = [torch.utils.data.Subset(train_dataset, range(pieces[i], pieces[i+1])) for i in range(honestSize)]\n",
    "    train_loaders_splited = [\n",
    "        torch.utils.data.DataLoader(dataset=subset, batch_size=batchSize, shuffle=False)\n",
    "        for subset in train_dataset_subset\n",
    "    ]\n",
    "    \n",
    "    # 随机取样器\n",
    "    randomSampler = torch.utils.data.sampler.RandomSampler(\n",
    "        train_dataset, \n",
    "        num_samples=rounds*displayInterval*batchSize, \n",
    "        replacement=True\n",
    "    )\n",
    "    train_random_loaders_splited = [torch.utils.data.DataLoader(\n",
    "            dataset=subset,\n",
    "            batch_size=batchSize, \n",
    "            sampler=randomSampler,\n",
    "    ) for subset in train_dataset_subset]\n",
    "    randomIters = [iter(loader) for loader in train_random_loaders_splited]\n",
    "    \n",
    "    # 求初始误差\n",
    "    trainLoss, trainAccuracy = calculateAccuracy(model, train_loader)\n",
    "    valLoss, valAccuracy = calculateAccuracy(model, validate_loader)\n",
    "    \n",
    "    trainLossPath = [trainLoss]\n",
    "    trainAccPath = [trainAccuracy]\n",
    "    valLossPath = [valLoss]\n",
    "    valAccPath = [valAccuracy]\n",
    "    variencePath = []\n",
    "    \n",
    "    report(0, rounds, displayInterval, trainLoss, trainAccuracy, valLoss, valAccuracy)\n",
    "\n",
    "    for r in range(rounds):\n",
    "        for k in range(displayInterval):\n",
    "            # 诚实节点更新\n",
    "            for node in range(honestSize):\n",
    "                # 读取数据\n",
    "                material, targets = next(randomIters[node])\n",
    "                \n",
    "                # 随机梯度\n",
    "                # --------------------\n",
    "                # 预测\n",
    "                outputs = model(material)\n",
    "                loss = loss_func(outputs, targets)\n",
    "                # 反向传播\n",
    "                model.zero_grad()\n",
    "                loss.backward()\n",
    "\n",
    "                # 更新梯度表\n",
    "                for pi, para in enumerate(model.parameters()):\n",
    "                    message[node][pi].data.zero_()\n",
    "                    message[node][pi].data.add_(1, para.grad.data)\n",
    "                    message[node][pi].data.add_(weight_decay, para)\n",
    "\n",
    "            # 同步, Byzantine攻击\n",
    "            message_f = flatten_list(message, byzantineSize)\n",
    "            if attack != None:\n",
    "                attack(message_f, byzantineSize)\n",
    "            # 聚合\n",
    "            g_vector = aggregate(message_f)\n",
    "            # 展开\n",
    "            g = unflatten_vector(g_vector, model)\n",
    "            # 更新\n",
    "            for para, grad in zip(model.parameters(), g):\n",
    "                para.data.add_(-gamma, grad)\n",
    "  \n",
    "        var = getVarience(message_f, honestSize)\n",
    "        variencePath.append(var)\n",
    "        \n",
    "        trainLoss, trainAccuracy = calculateAccuracy(model, train_loader)\n",
    "        valLoss, valAccuracy = calculateAccuracy(model, validate_loader)\n",
    "\n",
    "        trainLossPath.append(trainLoss)\n",
    "        trainAccPath.append(trainAccuracy)\n",
    "        valLossPath.append(valLoss)\n",
    "        valAccPath.append(valAccuracy)\n",
    "        \n",
    "        report(r+1, rounds, displayInterval, trainLoss, trainAccuracy, valLoss, valAccuracy)\n",
    "    return model, trainLossPath, trainAccPath, valLossPath, valAccPath, variencePath"
   ]
  },
  {
   "cell_type": "markdown",
   "metadata": {},
   "source": [
    "## SAGA"
   ]
  },
  {
   "cell_type": "code",
   "execution_count": 26,
   "metadata": {},
   "outputs": [],
   "source": [
    "# 初始化本地模型\n",
    "def initModel(local_models, honestSize):\n",
    "    stateDict = local_models[0].state_dict()\n",
    "    for model in local_models[1:honestSize]:\n",
    "        model.load_state_dict(stateDict)\n",
    "\n",
    "# 广播\n",
    "def broadcastPara(newPara, local_models):\n",
    "    cum = 0\n",
    "    for p in local_models[0].parameters():\n",
    "        newP = newPara[cum:cum+p.numel()]\n",
    "        p.data.copy_(newP.view_as(p))\n",
    "        cum += p.numel()\n",
    "    stateDict = local_models[0].state_dict()\n",
    "    for model in local_models[1:]:\n",
    "        model.load_state_dict(stateDict)"
   ]
  },
  {
   "cell_type": "code",
   "execution_count": 27,
   "metadata": {
    "code_folding": [
     37
    ]
   },
   "outputs": [],
   "source": [
    "def SAGA(w0, gamma, aggregate, weight_decay, honestSize=0, byzantineSize=0, attack=None, \n",
    "            rounds=10, displayInterval=1000, SEED=100, fixSeed=False, **kw):\n",
    "    assert byzantineSize == 0 or attack != None\n",
    "    assert honestSize != 0\n",
    "    \n",
    "    if fixSeed:\n",
    "        random.seed(SEED)\n",
    "\n",
    "    nodeSize = honestSize + byzantineSize\n",
    "    \n",
    "    log('开始迭代，gamma={}'.format(gamma))\n",
    "    \n",
    "    # 初始化\n",
    "    store = []\n",
    "\n",
    "    # 中间变量分配空间\n",
    "    local_models = [modelFactory(SEED=SEED) for _ in range(honestSize+byzantineSize)]\n",
    "    # 同步初始化参数\n",
    "    initModel(local_models, honestSize=honestSize)\n",
    "\n",
    "    torch.manual_seed(SEED)#为CPU设置随机种子\n",
    "    # torch.cuda.manual_seed(seed)#为当前GPU设置随机种子\n",
    "    # torch.cuda.manual_seed_all(seed)#为所有GPU设置随机种子\n",
    "    \n",
    "    trainLoss = 0\n",
    "    trainAccuracy = 0\n",
    "    total = 0\n",
    "    ANY_MODEL_IS_OK = 0\n",
    "    for index, (material, targets) in enumerate(dataset):\n",
    "        outputs = local_models[ANY_MODEL_IS_OK](material)\n",
    "\n",
    "        loss = loss_func(outputs, targets)\n",
    "\n",
    "        trainLoss += loss.item() * len(targets)\n",
    "        _, predicted = torch.max(outputs.data, dim=1)\n",
    "        trainAccuracy += (predicted == targets).sum().item()\n",
    "        total += len(targets)\n",
    "\n",
    "        local_models[0].zero_grad()\n",
    "        loss.backward()\n",
    "\n",
    "        store.append([p.grad.clone().detach()+weight_decay*p.data for p in local_models[0].parameters()])\n",
    "\n",
    "    # 数据分片\n",
    "    pieces = [(i*len(dataset)) // honestSize for i in range(honestSize+1)]\n",
    "    dataPerNode = [pieces[i+1] - pieces[i] for i in range(honestSize)]\n",
    "\n",
    "    # G_avg每一行是单个节点上存储的均值\n",
    "    G_avg = []\n",
    "    for i in range(honestSize):\n",
    "        # storeInThisNode：该节点上梯度缓存的集合\n",
    "        storeInThisNode = store[pieces[i]: pieces[i+1]]\n",
    "        # para每一个元素是在对应节点上的一组参数\n",
    "        (*paras,) = zip(*storeInThisNode)\n",
    "        # 对所有单一节点上所有数据求平均\n",
    "        G_avg.append([sum(para)/(pieces[i+1]-pieces[i]) for para in paras])\n",
    "\n",
    "    # dataset按批划分，每批求出来的Loss已经求平均，只需要在批间求平均即可\n",
    "    trainLoss /= total\n",
    "    trainAccuracy /= total\n",
    "    lossPath = [trainLoss]\n",
    "    accPath = [trainAccuracy]\n",
    "    log('[SAGA]初始 loss={:.6f}, accuracy={:.2f}'.format(lossPath[0], accPath[0]))\n",
    "\n",
    "    for r in range(rounds):\n",
    "        trainLoss = 0\n",
    "        trainAccuracy = 0\n",
    "        total = 0\n",
    "\n",
    "        for k in range(displayInterval):\n",
    "            # 诚实节点更新\n",
    "            for node in range(honestSize):\n",
    "                model = local_models[node]\n",
    "                # 读取数据\n",
    "                index = random.randint(pieces[node], pieces[node+1]-1)\n",
    "                # 预测\n",
    "                material, targets = dataset[index]\n",
    "                outputs = model(material)\n",
    "                loss = loss_func(outputs, targets)\n",
    "                # 统计准确率\n",
    "                trainLoss += loss.item() * len(targets)\n",
    "                _, predicted = torch.max(outputs.data, dim=1)\n",
    "                trainAccuracy += (predicted == targets).sum().item()\n",
    "                total += len(targets)\n",
    "                # 反向传播\n",
    "                model.zero_grad()\n",
    "                loss.backward()\n",
    "\n",
    "                # 更新梯度表\n",
    "                for pi, para in enumerate(model.parameters()):\n",
    "                    old_G = store[index][pi]\n",
    "                    new_G = para.grad.data.clone()\n",
    "                    new_G.add_(weight_decay, para.data)\n",
    "\n",
    "                    gradient = new_G.data - old_G.data + G_avg[node][pi].data\n",
    "\n",
    "                    G_avg[node][pi].add_(1 / dataPerNode[node],\n",
    "                                     new_G.data - old_G.data)\n",
    "                    store[index][pi] = new_G.data\n",
    "\n",
    "                    para.data.add_(-gamma, gradient.data)\n",
    "\n",
    "            # Byzantine攻击\n",
    "            if attack != None:\n",
    "                attack(local_models, byzantineSize)\n",
    "            # 聚合\n",
    "            aggregatedPara = aggregate(local_models)\n",
    "\n",
    "            # 广播\n",
    "            broadcastPara(newPara=aggregatedPara, local_models=local_models)\n",
    "\n",
    "        trainLoss /= total\n",
    "        trainAccuracy /= total\n",
    "        lossPath.append(trainLoss)\n",
    "        accPath.append(trainAccuracy)\n",
    "        log('[SAGA]已迭代 {}/{} rounds (interval: {:.0f}), loss={:.9f}, accuracy={:.2f}'.format(\n",
    "            r+1, rounds, displayInterval, trainLoss, trainAccuracy\n",
    "        ))\n",
    "    return local_models[0], lossPath, accPath"
   ]
  },
  {
   "cell_type": "markdown",
   "metadata": {},
   "source": [
    "## SVRG"
   ]
  },
  {
   "cell_type": "code",
   "execution_count": 28,
   "metadata": {
    "code_folding": [
     37
    ]
   },
   "outputs": [],
   "source": [
    "def SVRG(w0, gamma, aggregate, weight_decay, honestSize=0, byzantineSize=0, attack=None, \n",
    "            snapshotInterval=6000, rounds=10, displayInterval=1000, SEED=100, fixSeed=False, **kw):\n",
    "    assert byzantineSize == 0 or attack != None\n",
    "    assert honestSize != 0\n",
    "    \n",
    "    if fixSeed:\n",
    "        random.seed(SEED)\n",
    "\n",
    "    nodeSize = honestSize + byzantineSize\n",
    "    \n",
    "    # 初始化\n",
    "    w = w0.clone().detach()\n",
    "\n",
    "    # 数据分片\n",
    "    pieces = [(i*len(dataset)) // honestSize for i in range(honestSize+1)]\n",
    "    dataPerNode = [pieces[i+1] - pieces[i] for i in range(honestSize)]\n",
    "\n",
    "    snapshot_g = torch.zeros(honestSize, len(w0), dtype=torch.float64)\n",
    "    snapshot_w = torch.zeros(len(w0), dtype=torch.float64)\n",
    "\n",
    "    path = [F(w, dataset, weight_decay)]\n",
    "    variencePath = []\n",
    "    log('[SVRG]初始 loss={:.6f}, accuracy={:.2f} gamma={:}'.format(path[0], accuracy(w, dataset), gamma))\n",
    "    \n",
    "    # 中间变量分配空间\n",
    "    message = torch.zeros(nodeSize, len(w0), dtype=torch.float64)\n",
    "\n",
    "    log('开始迭代')\n",
    "    for r in range(rounds):\n",
    "        for k in range(displayInterval):\n",
    "            # snapshot\n",
    "            if (r*displayInterval + k) % snapshotInterval == 0:\n",
    "                snapshot_g.zero_()\n",
    "                for node in range(honestSize):\n",
    "                    for index in range(pieces[node], pieces[node+1]):\n",
    "                        x, y = dataset[index]\n",
    "                        # 更新梯度表\n",
    "                        predict = LogisticRegression(w, x)\n",
    "\n",
    "                        err = (predict-y).data\n",
    "                        snapshot_g[node][:-1].add_(1/dataPerNode[node], err*x)\n",
    "                        snapshot_g[node][-1].add_(1/dataPerNode[node], err)\n",
    "                    snapshot_g[node].add_(weight_decay, w)\n",
    "                snapshot_w.copy_(w)\n",
    "            \n",
    "            # 诚实节点更新\n",
    "            message.zero_()\n",
    "            for node in range(honestSize):\n",
    "                index = random.randint(pieces[node], pieces[node+1]-1)\n",
    "\n",
    "                x, y = dataset[index]\n",
    "                # 随机梯度\n",
    "                predict = LogisticRegression(w, x)\n",
    "                err = (predict-y).data\n",
    "                message[node][:-1].add_(err, x)\n",
    "                message[node][-1].add_(err, 1)\n",
    "                message[node].add_(weight_decay, w)\n",
    "                \n",
    "                # 修正梯度\n",
    "                predict = LogisticRegression(snapshot_w, x)\n",
    "                err = (predict-y).data\n",
    "                message[node][:-1].add_(-err, x)\n",
    "                message[node][-1].add_(-err, 1)\n",
    "                message[node].add_(-weight_decay, snapshot_w)\n",
    "                \n",
    "                message[node].add_(1, snapshot_g[node])\n",
    "                \n",
    "            # 同步\n",
    "            # Byzantine攻击\n",
    "            if attack != None:\n",
    "                attack(message, byzantineSize)\n",
    "            g = aggregate(message)\n",
    "            w.add_(-gamma, g)\n",
    "            \n",
    "        loss = F(w, dataset, weight_decay)\n",
    "        acc = accuracy(w, dataset)\n",
    "        path.append(loss)\n",
    "        var = getVarience(message, honestSize)\n",
    "        variencePath.append(var)\n",
    "        log('[SVRG]已迭代 {}/{} rounds (interval: {:.0f}), loss={:.9f}, accuracy={:.2f}, var={:.9f}'.format(\n",
    "            r+1, rounds, displayInterval, loss, acc, var\n",
    "        ))\n",
    "    return w, path, variencePath"
   ]
  },
  {
   "cell_type": "markdown",
   "metadata": {},
   "source": [
    "## SARAH"
   ]
  },
  {
   "cell_type": "code",
   "execution_count": 29,
   "metadata": {
    "code_folding": []
   },
   "outputs": [],
   "source": [
    "def SARAH(model, gamma, aggregate, weight_decay, \n",
    "          snapshotInterval=len(train_dataset),\n",
    "          honestSize=0, byzantineSize=0, attack=None, \n",
    "          rounds=10, displayInterval=1000, \n",
    "          device='cpu', SEED=100, fixSeed=False, \n",
    "          batchSize=5,\n",
    "          **kw):\n",
    "    assert byzantineSize == 0 or attack != None\n",
    "    assert honestSize != 0\n",
    "    \n",
    "    if fixSeed:\n",
    "        random.seed(SEED)\n",
    "\n",
    "    nodeSize = honestSize + byzantineSize\n",
    "    \n",
    "    # 初始化模型\n",
    "    lastModel = modelFactory(SEED=SEED)\n",
    "\n",
    "    if device == 'cpu':\n",
    "        torch.manual_seed(SEED)#为CPU设置随机种子\n",
    "    else:\n",
    "        torch.cuda.manual_seed(seed)#为当前GPU设置随机种子\n",
    "        torch.cuda.manual_seed_all(seed)#为所有GPU设置随机种子\n",
    "    \n",
    "    # 数据分片\n",
    "    pieces = [(i*len(train_dataset)) // honestSize for i in range(honestSize+1)]\n",
    "    dataPerNode = [pieces[i+1] - pieces[i] for i in range(honestSize)]\n",
    "\n",
    "    # 随机的停止期限\n",
    "    randomStop = 1\n",
    "    # 回复的消息\n",
    "    message = [\n",
    "        [torch.zeros_like(para, requires_grad=False) for para in model.parameters()]\n",
    "        for _ in range(nodeSize)\n",
    "    ]\n",
    "    \n",
    "    # 顺序遍历loader\n",
    "    train_loader = torch.utils.data.DataLoader(dataset=train_dataset, batch_size=batchSize, shuffle=False)\n",
    "    validate_loader = torch.utils.data.DataLoader(dataset=validate_dataset, batch_size=batchSize, shuffle=False)\n",
    "    \n",
    "    train_dataset_subset = [torch.utils.data.Subset(train_dataset, range(pieces[i], pieces[i+1])) for i in range(honestSize)]\n",
    "    train_loaders_splited = [\n",
    "        torch.utils.data.DataLoader(dataset=subset, batch_size=batchSize, shuffle=False)\n",
    "        for subset in train_dataset_subset\n",
    "    ]\n",
    "    \n",
    "    # 随机取样器\n",
    "    randomSampler = torch.utils.data.sampler.RandomSampler(\n",
    "        train_dataset, \n",
    "        num_samples=rounds*displayInterval*batchSize, \n",
    "        replacement=True\n",
    "    )\n",
    "    train_random_loaders_splited = [torch.utils.data.DataLoader(\n",
    "            dataset=subset,\n",
    "            batch_size=batchSize, \n",
    "            sampler=randomSampler,\n",
    "    ) for subset in train_dataset_subset]\n",
    "    randomIters = [iter(loader) for loader in train_random_loaders_splited]\n",
    "    \n",
    "    # 求初始误差\n",
    "    trainLoss, trainAccuracy = calculateAccuracy(model, train_loader)\n",
    "    valLoss, valAccuracy = calculateAccuracy(model, validate_loader)\n",
    "    \n",
    "    trainLossPath = [trainLoss]\n",
    "    trainAccPath = [trainAccuracy]\n",
    "    valLossPath = [valLoss]\n",
    "    valAccPath = [valAccuracy]\n",
    "    variencePath = []\n",
    "    \n",
    "    log('[SARAH]初始 train: loss={:.6f} accuracy={:.2f} validation: loss={:.6f} accuracy={:.2f}'\n",
    "        .format(trainLossPath[0], trainAccPath[0], valLossPath[0], valAccPath[0])\n",
    "    )\n",
    "\n",
    "    for r in range(rounds):\n",
    "        for k in range(displayInterval):\n",
    "            # snapshot\n",
    "            if (r*displayInterval + k) % randomStop == 0:\n",
    "                for node in range(honestSize):\n",
    "                    # 清空旧梯度\n",
    "                    for grad in message[node]:\n",
    "                        grad.zero_()\n",
    "                    loader = train_loaders_splited[node]\n",
    "                    for material, targets in loader:\n",
    "                        # 预测\n",
    "                        outputs = model(material)\n",
    "                        loss = loss_func(outputs, targets)\n",
    "                        # 反向传播\n",
    "                        model.zero_grad()\n",
    "                        loss.backward()\n",
    "                        \n",
    "                        for grad, para in zip(message[node], model.parameters()):\n",
    "                            grad.data.add_(1/len(loader), para.grad.data)\n",
    "                    for grad, para in zip(message[node], model.parameters()):\n",
    "                        grad.data.add_(weight_decay, para.data)\n",
    "                \n",
    "                # 保存旧结果\n",
    "                for oldPara, newPara in zip(lastModel.parameters(), model.parameters()):\n",
    "                    oldPara.data.copy_(newPara)\n",
    "                # 同步, Byzantine攻击\n",
    "                message_f = flatten_list(message, byzantineSize)\n",
    "                if attack != None:\n",
    "                    attack(message_f, byzantineSize)\n",
    "                # 聚合\n",
    "                g_vector = aggregate(message_f)\n",
    "                # 展开\n",
    "                g = unflatten_vector(g_vector, model)\n",
    "                # 更新\n",
    "                for para, grad in zip(model.parameters(), g):\n",
    "                    para.data.add_(-gamma, grad)\n",
    "                # 指定下一次停止时间\n",
    "                randomStop = random.randint(1, snapshotInterval-1)\n",
    "                \n",
    "            # 诚实节点更新\n",
    "            for node in range(honestSize):\n",
    "                # 读取数据\n",
    "                material, targets = next(randomIters[node])\n",
    "                \n",
    "                # 随机梯度\n",
    "                # --------------------\n",
    "                # 预测\n",
    "                outputs = model(material)\n",
    "                loss = loss_func(outputs, targets)\n",
    "                # 反向传播\n",
    "                model.zero_grad()\n",
    "                loss.backward()\n",
    "                \n",
    "                # 修正梯度\n",
    "                # --------------------\n",
    "                # 预测\n",
    "                outputs = lastModel(material)\n",
    "                loss = loss_func(outputs, targets)\n",
    "                # 反向传播\n",
    "                lastModel.zero_grad()\n",
    "                loss.backward()\n",
    "\n",
    "                # 更新梯度表\n",
    "                for pi, para in enumerate(model.parameters()):\n",
    "                    message[node][pi].data.add_(1, para.grad.data)\n",
    "                    message[node][pi].data.add_(weight_decay, para)\n",
    "                for pi, para in enumerate(lastModel.parameters()):\n",
    "                    message[node][pi].data.sub_(1, para.grad.data)\n",
    "                    message[node][pi].data.sub_(weight_decay, para)\n",
    "\n",
    "            # 同步, Byzantine攻击\n",
    "            message_f = flatten_list(message, byzantineSize)\n",
    "            if attack != None:\n",
    "                attack(message_f, byzantineSize)\n",
    "            # 聚合\n",
    "            g_vector = aggregate(message_f)\n",
    "            # 展开\n",
    "            g = unflatten_vector(g_vector, model)\n",
    "            # 保存旧结果\n",
    "            for oldPara, newPara in zip(lastModel.parameters(), model.parameters()):\n",
    "                oldPara.data.copy_(newPara)\n",
    "            # 更新\n",
    "            for para, grad in zip(model.parameters(), g):\n",
    "                para.data.add_(-gamma, grad)\n",
    "  \n",
    "        var = getVarience(message_f, honestSize)\n",
    "        variencePath.append(var)\n",
    "        \n",
    "        trainLoss, trainAccuracy = calculateAccuracy(model, train_loader)\n",
    "        valLoss, valAccuracy = calculateAccuracy(model, validate_loader)\n",
    "\n",
    "        trainLossPath.append(trainLoss)\n",
    "        trainAccPath.append(trainAccuracy)\n",
    "        valLossPath.append(valLoss)\n",
    "        valAccPath.append(valAccuracy)\n",
    "        \n",
    "        report(r+1, rounds, displayInterval, trainLoss, trainAccuracy, valLoss, valAccuracy)\n",
    "    return model, trainLossPath, trainAccPath, valLossPath, valAccPath, variencePath"
   ]
  },
  {
   "cell_type": "markdown",
   "metadata": {},
   "source": [
    "# 恶意攻击"
   ]
  },
  {
   "cell_type": "code",
   "execution_count": 30,
   "metadata": {},
   "outputs": [],
   "source": [
    "def white(messages, byzantinesize):\n",
    "    # 均值相同，方差为1\n",
    "    mu = torch.mean(messages[0:-byzantinesize], dim=0)\n",
    "    messages[-byzantinesize:].copy_(mu)\n",
    "    noise = torch.randn((byzantinesize, messages.size(1)), dtype=torch.float64)\n",
    "#     messages[-byzantinesize:].add_(35, noise)\n",
    "    messages[-byzantinesize:].add_(1, noise)\n",
    "\n",
    "def maxValue(messages, byzantinesize):\n",
    "    # 4倍于正常均值的极大梯度\n",
    "#     mu = torch.mean(messages[0:-byzantinesize], dim=0)\n",
    "#     meliciousMessage = -3*mu\n",
    "#     messages[-byzantinesize:].copy_(meliciousMessage)\n",
    "\n",
    "    mu = torch.mean(w_local[0:-byzantinesize], dim=0)\n",
    "    # 在串行实现中w_local[-1]不会随聚合改变而改变\n",
    "    # w_local[-1]事实上是上一次的迭代值\n",
    "    # w_local[-1] - mu是这次的改变值，即传输过来的向量的改变值\n",
    "    delta = w_local[-1] - mu\n",
    "    meliciousMessage = mu + 4*delta\n",
    "    w_local[-byzantinesize:].copy_(meliciousMessage)\n",
    "\n",
    "def zeroGradient(messages, byzantinesize):\n",
    "    s = torch.sum(messages[0:-byzantinesize], dim=0)\n",
    "    messages[-byzantinesize:].copy_(-s / byzantinesize)"
   ]
  },
  {
   "cell_type": "markdown",
   "metadata": {},
   "source": [
    "# 训练函数"
   ]
  },
  {
   "cell_type": "code",
   "execution_count": 31,
   "metadata": {},
   "outputs": [],
   "source": [
    "def train(model, loss_func, optimizer, trainloader, device, weight_decay):\n",
    "    \"\"\"\n",
    "    train model using loss_fn and optimizer in an epoch.\n",
    "    model: CNN networks\n",
    "    train_loader: a Dataloader object with training data\n",
    "    loss_func: loss function\n",
    "    device: train on cpu or gpu device\n",
    "    \"\"\"\n",
    "    model.train()\n",
    "    \n",
    "    trainAccuracy = 0\n",
    "    trainLoss = 0\n",
    "    total = 0\n",
    "    \n",
    "    for i, (*material, targets) in enumerate(trainloader):\n",
    "        if isinstance(material, torch.Tensor):\n",
    "            material = material.to(device)\n",
    "        else:\n",
    "            material = [m.to(device) for m in material]\n",
    "        \n",
    "        targets = targets.to(device)\n",
    "\n",
    "        # forward\n",
    "        outputs = model(*material)\n",
    "        \n",
    "        loss = loss_func(outputs, targets)\n",
    "        trainLoss += loss.item()\n",
    "\n",
    "        # backward and optimize\n",
    "        optimizer.zero_grad()\n",
    "        loss.backward()\n",
    "        optimizer.step()\n",
    "        \n",
    "        # AdamW - https://zhuanlan.zhihu.com/p/38945390\n",
    "        for group in optimizer.param_groups:\n",
    "            for param in group['params']:\n",
    "                param.data = param.data.add(-weight_decay * group['lr'], param.data)\n",
    "\n",
    "        # return the maximum value of each row of the input tensor in the \n",
    "        # given dimension dim, the second return vale is the index location\n",
    "        # of each maxium value found(argmax)\n",
    "        _, predicted = torch.max(outputs.data, dim=1)\n",
    "        trainAccuracy += (predicted == targets).sum().item()\n",
    "        \n",
    "        total += len(targets)\n",
    "    trainAccuracy /= total\n",
    "    trainLoss /= total\n",
    "    return trainLoss, trainAccuracy"
   ]
  },
  {
   "cell_type": "code",
   "execution_count": 32,
   "metadata": {},
   "outputs": [],
   "source": [
    "def validate(model, loss_func, validateloader, device):\n",
    "    # evaluate the model\n",
    "    model.eval()\n",
    "    # context-manager that disabled gradient computation\n",
    "    with torch.no_grad():\n",
    "        # =============================================================\n",
    "        valAccuracy = 0\n",
    "        valLoss = 0\n",
    "        total = 0\n",
    "        \n",
    "        for i, (*material, targets) in enumerate(trainloader):\n",
    "            if isinstance(material, torch.Tensor):\n",
    "                material = material.to(device)\n",
    "            else:\n",
    "                material = [m.to(device) for m in material]\n",
    "\n",
    "            targets = targets.to(device)\n",
    "            \n",
    "            outputs = model(*material)\n",
    "            \n",
    "            loss = loss_func(outputs, targets)\n",
    "            valLoss += loss.item()\n",
    "            \n",
    "            # return the maximum value of each row of the input tensor in the \n",
    "            # given dimension dim, the second return vale is the index location\n",
    "            # of each maxium value found(argmax)\n",
    "            _, predicted = torch.max(outputs.data, dim=1)\n",
    "            valAccuracy += (predicted == targets).sum().item()\n",
    "            \n",
    "            total += len(targets)\n",
    "        valAccuracy /= total\n",
    "        valLoss /= total\n",
    "    return valLoss, valAccuracy"
   ]
  },
  {
   "cell_type": "code",
   "execution_count": 33,
   "metadata": {},
   "outputs": [],
   "source": [
    "def test(model, testloader, classname=None, name='default'):\n",
    "    # evaluate the model\n",
    "    model.eval()\n",
    "    # context-manager that disabled gradient computation\n",
    "    with torch.no_grad():\n",
    "        result = []\n",
    "        test_cnt = 0\n",
    "        for i, (*material, targets) in enumerate(testloader):\n",
    "            if isinstance(material, torch.Tensor):\n",
    "                material = material.to(device)\n",
    "            else:\n",
    "                material = [m.to(device) for m in material]\n",
    "\n",
    "            targets = targets.to(device)\n",
    "\n",
    "            outputs = model(*material)\n",
    "\n",
    "            _, predicted = torch.max(outputs.data, dim=1)\n",
    "\n",
    "            result.extend(predicted)\n",
    "            test_cnt += len(targets)\n",
    "\n",
    "    if classname != None:\n",
    "        result = [classname[i] for i in result]\n",
    "\n",
    "    log('共预测{}个数据'.format(test_cnt))\n",
    "    df_predict = pd.DataFrame({'id': list(range(1, len(result)+1)), 'polarity': result})\n",
    "    df_predict.to_csv('{}.csv'.format(name), index=False)\n",
    "    log('预测完成')\n",
    "    "
   ]
  },
  {
   "cell_type": "code",
   "execution_count": 34,
   "metadata": {},
   "outputs": [],
   "source": [
    "def showCurve(list_trainLoss, list_trainAccuracy, list_valLoss, list_valAccuracy):\n",
    "    xAxis = list(range(len(list_trainLoss)))\n",
    "    fig, axs = plt.subplots(1, 2)\n",
    "\n",
    "    axs[0].plot(xAxis, list_trainLoss, label='train')\n",
    "    axs[0].plot(xAxis, list_valLoss, label='validation')\n",
    "    axs[0].set_title('Loss')\n",
    "\n",
    "    axs[1].plot(xAxis, list_trainAccuracy, label='train')\n",
    "    axs[1].plot(xAxis, list_valAccuracy, label='validation')\n",
    "    axs[1].set_title('Accuracy')\n",
    "\n",
    "    for ax in axs:\n",
    "        ax.axis()\n",
    "        ax.set_xlabel('epoch')\n",
    "        ax.set_ylabel('{}'.format(ax.get_title()))\n",
    "        ax.legend()\n",
    "    fig.set_size_inches((8, 4))\n",
    "    plt.subplots_adjust(wspace=0.3)\n",
    "    plt.show()"
   ]
  },
  {
   "cell_type": "markdown",
   "metadata": {},
   "source": [
    "# 运行函数"
   ]
  },
  {
   "cell_type": "code",
   "execution_count": 36,
   "metadata": {},
   "outputs": [],
   "source": [
    "def run(optimizer, aggregate, attack, config, device='cpu'):\n",
    "    # 初始化参数\n",
    "    _config = config.copy()\n",
    "    _config['aggregate'] = aggregate\n",
    "    _config['attack'] = attack\n",
    "    if attack == None:\n",
    "        _config['byzantineSize'] = 0\n",
    "        \n",
    "    model = modelFactory(SEED=_config['SEED'])\n",
    "    model = model.to(device)\n",
    "\n",
    "    # 记录参数\n",
    "    attackName = 'baseline' if attack == None else attack.__name__\n",
    "    # e.g. Resnet50_SARAH(5)_baseline_mean\n",
    "    title = '{}_{}({})_{}_{}'.format(\n",
    "        model.__class__.__name__, \n",
    "        optimizer.__name__, \n",
    "        _config['batchSize'],\n",
    "        attackName, \n",
    "        aggregate.__name__\n",
    "    )\n",
    "    \n",
    "    # 打印运行信息\n",
    "    print('[提交任务] ' + title)\n",
    "    print('[运行信息]')\n",
    "    print('[网络属性]   name={} parameters number={}'.format(model.__class__.__name__, getPara(model)))\n",
    "    print('[优化方法]   name={} aggregation={} attack={}'.format(optimizer.__name__, aggregate.__name__, attackName))\n",
    "    print('[数据集属性] name={} trainSize={} validationSize={}'.format(dataSetConfig['name'], len(train_dataset), len(validate_dataset)))\n",
    "    print('[优化器设置] gamma={} weight_decay={} batchSize={}'.format(_config['gamma'], _config['weight_decay'], _config['batchSize']))\n",
    "    print('[节点个数]   honestSize={}, byzantineSize={}'.format(_config['honestSize'], _config['byzantineSize']))\n",
    "    print('[运行次数]   rounds={}, displayInterval={}'.format(_config['rounds'], _config['displayInterval']))\n",
    "    print('[torch设置]  device={}, SEED={}, fixSeed={}'.format(device, _config['SEED'], _config['fixSeed']))\n",
    "    print('-------------------------------------------')\n",
    "    \n",
    "    # 开始运行\n",
    "    log('优化开始')\n",
    "    res = optimizer(model, device=device, **_config)\n",
    "    [*model, trainLossPath, trainAccPath, valLossPath, valAccPath, variencePath] = res\n",
    "\n",
    "    record = {\n",
    "        **dataSetConfig,\n",
    "        **{key:(_config[key].__name__ if hasattr(_config[key], '__call__') else _config[key]) for key in _config},\n",
    "        'trainLossPath': trainLossPath, \n",
    "        'trainAccPath': trainAccPath, \n",
    "        'valLossPath': valLossPath, \n",
    "        'valAccPath': valAccPath, \n",
    "        'variencePath': variencePath,\n",
    "    }\n",
    "\n",
    "    with open(CACHE_DIR + title, 'wb') as f:\n",
    "        pickle.dump(record, f)\n",
    "    \n",
    "    _, axis = plt.subplots(1, 2)\n",
    "    axis[0].plot(list(range(len(trainLossPath))), trainLossPath, label='train loss')\n",
    "    axis[0].plot(list(range(len(valLossPath))), valLossPath, label='validation loss')\n",
    "    axis[1].plot(list(range(len(trainAccPath))), trainAccPath, label='train accuracy')\n",
    "    axis[1].plot(list(range(len(valAccPath))), valAccPath, label='validation accuracy')\n",
    "    for ax in axis:\n",
    "        ax.legend()\n",
    "    plt.show()"
   ]
  },
  {
   "cell_type": "markdown",
   "metadata": {},
   "source": [
    "# 测试"
   ]
  },
  {
   "cell_type": "markdown",
   "metadata": {},
   "source": [
    "## 中心式SGD调参"
   ]
  },
  {
   "cell_type": "code",
   "execution_count": 53,
   "metadata": {
    "scrolled": true
   },
   "outputs": [
    {
     "name": "stdout",
     "output_type": "stream",
     "text": [
      "[提交任务] ResNet_CentralSGD(20)_baseline_mean\n",
      "[运行信息]\n",
      "[网络属性]   name=ResNet parameters number=24.37M\n",
      "[优化方法]   name=CentralSGD aggregation=mean attack=baseline\n",
      "[数据集属性] name=CIFAR-10 trainSize=50000 validationSize=10000\n",
      "[优化器设置] gamma=0.5 weight_decay=0.0001 batchSize=20\n",
      "[节点个数]   honestSize=10, byzantineSize=0\n",
      "[运行次数]   rounds=50, displayInterval=6000\n",
      "[torch设置]  device=cuda:0, SEED=100, fixSeed=False\n",
      "-------------------------------------------\n",
      "[10-18 04:44:41] 优化开始\n",
      "[10-18 04:46:48] [0/50](interval: 6000) train: loss=7.2064 acc=0.00 val: loss=7.2071 acc=0.00\n",
      "[10-18 04:57:09] [1/50](interval: 6000) train: loss=1.1190 acc=0.62 val: loss=1.1532 acc=0.61\n",
      "[10-18 05:07:29] [2/50](interval: 6000) train: loss=1.3573 acc=0.69 val: loss=1.5021 acc=0.65\n",
      "[10-18 05:17:50] [3/50](interval: 6000) train: loss=0.7850 acc=0.73 val: loss=0.8774 acc=0.70\n",
      "[10-18 05:28:10] [4/50](interval: 6000) train: loss=0.7875 acc=0.74 val: loss=0.9345 acc=0.70\n",
      "[10-18 05:38:31] [5/50](interval: 6000) train: loss=0.4694 acc=0.84 val: loss=0.6276 acc=0.79\n",
      "[10-18 05:48:51] [6/50](interval: 6000) train: loss=0.6235 acc=0.78 val: loss=0.8023 acc=0.74\n",
      "[10-18 05:59:12] [7/50](interval: 6000) train: loss=0.5739 acc=0.81 val: loss=0.7757 acc=0.76\n",
      "[10-18 06:09:32] [8/50](interval: 6000) train: loss=0.3791 acc=0.87 val: loss=0.5932 acc=0.80\n",
      "[10-18 06:19:52] [9/50](interval: 6000) train: loss=0.4694 acc=0.84 val: loss=0.6657 acc=0.78\n",
      "[10-18 06:30:13] [10/50](interval: 6000) train: loss=0.4121 acc=0.86 val: loss=0.6315 acc=0.79\n",
      "[10-18 06:40:33] [11/50](interval: 6000) train: loss=0.3767 acc=0.87 val: loss=0.6126 acc=0.80\n",
      "[10-18 06:50:53] [12/50](interval: 6000) train: loss=0.6280 acc=0.79 val: loss=0.8862 acc=0.73\n",
      "[10-18 07:01:13] [13/50](interval: 6000) train: loss=0.4165 acc=0.86 val: loss=0.6272 acc=0.79\n",
      "[10-18 07:11:33] [14/50](interval: 6000) train: loss=0.3692 acc=0.87 val: loss=0.6167 acc=0.80\n",
      "[10-18 07:21:53] [15/50](interval: 6000) train: loss=0.3185 acc=0.89 val: loss=0.5490 acc=0.82\n",
      "[10-18 07:32:12] [16/50](interval: 6000) train: loss=0.6290 acc=0.80 val: loss=0.8539 acc=0.74\n",
      "[10-18 07:42:32] [17/50](interval: 6000) train: loss=0.3683 acc=0.88 val: loss=0.6241 acc=0.80\n",
      "[10-18 07:52:52] [18/50](interval: 6000) train: loss=0.4236 acc=0.86 val: loss=0.6661 acc=0.79\n",
      "[10-18 08:03:11] [19/50](interval: 6000) train: loss=0.2603 acc=0.91 val: loss=0.4886 acc=0.84\n",
      "[10-18 08:13:31] [20/50](interval: 6000) train: loss=0.4471 acc=0.85 val: loss=0.7219 acc=0.79\n",
      "[10-18 08:23:50] [21/50](interval: 6000) train: loss=0.3901 acc=0.87 val: loss=0.6221 acc=0.80\n",
      "[10-18 08:34:09] [22/50](interval: 6000) train: loss=0.8510 acc=0.78 val: loss=1.1636 acc=0.72\n",
      "[10-18 08:44:29] [23/50](interval: 6000) train: loss=0.3783 acc=0.88 val: loss=0.6259 acc=0.81\n",
      "[10-18 08:54:48] [24/50](interval: 6000) train: loss=0.4599 acc=0.85 val: loss=0.7205 acc=0.78\n",
      "[10-18 09:05:07] [25/50](interval: 6000) train: loss=0.2882 acc=0.90 val: loss=0.5290 acc=0.82\n",
      "[10-18 09:15:26] [26/50](interval: 6000) train: loss=0.3777 acc=0.87 val: loss=0.6145 acc=0.80\n",
      "[10-18 09:25:46] [27/50](interval: 6000) train: loss=0.2634 acc=0.91 val: loss=0.4971 acc=0.83\n",
      "[10-18 09:36:04] [28/50](interval: 6000) train: loss=0.3766 acc=0.87 val: loss=0.6307 acc=0.80\n",
      "[10-18 09:46:23] [29/50](interval: 6000) train: loss=0.2942 acc=0.90 val: loss=0.5389 acc=0.83\n",
      "[10-18 09:56:41] [30/50](interval: 6000) train: loss=0.3297 acc=0.89 val: loss=0.5940 acc=0.80\n",
      "[10-18 10:06:58] [31/50](interval: 6000) train: loss=0.2469 acc=0.92 val: loss=0.4604 acc=0.85\n",
      "[10-18 10:17:16] [32/50](interval: 6000) train: loss=0.4011 acc=0.87 val: loss=0.6543 acc=0.79\n",
      "[10-18 10:27:34] [33/50](interval: 6000) train: loss=0.3637 acc=0.88 val: loss=0.6136 acc=0.80\n",
      "[10-18 10:37:52] [34/50](interval: 6000) train: loss=0.2716 acc=0.91 val: loss=0.5173 acc=0.84\n",
      "[10-18 10:48:10] [35/50](interval: 6000) train: loss=0.3644 acc=0.88 val: loss=0.6465 acc=0.80\n",
      "[10-18 10:58:28] [36/50](interval: 6000) train: loss=0.4109 acc=0.86 val: loss=0.6728 acc=0.79\n",
      "[10-18 11:08:46] [37/50](interval: 6000) train: loss=0.4305 acc=0.86 val: loss=0.7017 acc=0.78\n",
      "[10-18 11:19:04] [38/50](interval: 6000) train: loss=0.3128 acc=0.89 val: loss=0.5672 acc=0.82\n",
      "[10-18 11:29:22] [39/50](interval: 6000) train: loss=0.3755 acc=0.88 val: loss=0.6564 acc=0.80\n",
      "[10-18 11:39:40] [40/50](interval: 6000) train: loss=0.2595 acc=0.91 val: loss=0.5009 acc=0.84\n",
      "[10-18 11:49:58] [41/50](interval: 6000) train: loss=0.3731 acc=0.88 val: loss=0.6169 acc=0.80\n",
      "[10-18 12:00:16] [42/50](interval: 6000) train: loss=0.2723 acc=0.91 val: loss=0.5232 acc=0.83\n",
      "[10-18 12:10:33] [43/50](interval: 6000) train: loss=0.3042 acc=0.90 val: loss=0.5754 acc=0.82\n",
      "[10-18 12:20:50] [44/50](interval: 6000) train: loss=0.3376 acc=0.88 val: loss=0.6055 acc=0.81\n",
      "[10-18 12:31:08] [45/50](interval: 6000) train: loss=0.4513 acc=0.85 val: loss=0.7583 acc=0.78\n",
      "[10-18 12:41:26] [46/50](interval: 6000) train: loss=0.3658 acc=0.88 val: loss=0.6212 acc=0.81\n",
      "[10-18 12:51:44] [47/50](interval: 6000) train: loss=0.4037 acc=0.86 val: loss=0.6614 acc=0.79\n",
      "[10-18 13:02:02] [48/50](interval: 6000) train: loss=0.3312 acc=0.89 val: loss=0.6075 acc=0.81\n",
      "[10-18 13:12:19] [49/50](interval: 6000) train: loss=0.3425 acc=0.88 val: loss=0.5950 acc=0.81\n",
      "[10-18 13:22:37] [50/50](interval: 6000) train: loss=0.3488 acc=0.88 val: loss=0.6120 acc=0.80\n"
     ]
    },
    {
     "data": {
      "image/png": "[encoded data removed]",
      "text/plain": [
       "<Figure size 432x288 with 2 Axes>"
      ]
     },
     "metadata": {
      "needs_background": "light"
     },
     "output_type": "display_data"
    }
   ],
   "source": [
    "_config = SGDConfig.copy()\n",
    "_config['gamma'] = 5e-1\n",
    "_config['rounds'] = 50\n",
    "_config['batchSize'] = 20\n",
    "run(optimizer = CentralSGD, aggregate = mean, attack = None, config = _config, device=device)"
   ]
  },
  {
   "cell_type": "markdown",
   "metadata": {},
   "source": [
    "## 中心式SARAH调参"
   ]
  },
  {
   "cell_type": "code",
   "execution_count": 45,
   "metadata": {
    "scrolled": false
   },
   "outputs": [
    {
     "name": "stdout",
     "output_type": "stream",
     "text": [
      "[提交任务] ResNet_CentralSARAH(20)_baseline_mean\n",
      "[运行信息]\n",
      "[网络属性]   name=ResNet parameters number=24.37M\n",
      "[优化方法]   name=CentralSARAH aggregation=mean attack=baseline\n",
      "[数据集属性] name=CIFAR-10 trainSize=50000 validationSize=10000\n",
      "[优化器设置] gamma=0.0001 weight_decay=0.0001 batchSize=20\n",
      "[节点个数]   honestSize=10, byzantineSize=0\n",
      "[运行次数]   rounds=30, displayInterval=100000\n",
      "[torch设置]  device=cuda:0, SEED=100, fixSeed=False\n",
      "-------------------------------------------\n",
      "[11-03 16:27:04] 优化开始\n",
      "[11-03 16:29:34] [SARAH]初始 train: loss=7.043794 accuracy=0.00 validation: loss=7.043365 accuracy=0.00\n",
      "[11-03 22:11:39] [1/30](interval: 100000) train: loss=1.9613 acc=0.28 val: loss=1.9624 acc=0.28\n",
      "[11-04 03:54:06] [2/30](interval: 100000) train: loss=1.8876 acc=0.31 val: loss=1.8835 acc=0.31\n",
      "[11-04 09:29:13] [3/30](interval: 100000) train: loss=1.8333 acc=0.33 val: loss=1.8297 acc=0.33\n",
      "[11-04 15:18:54] [4/30](interval: 100000) train: loss=1.7806 acc=0.35 val: loss=1.7777 acc=0.35\n",
      "[11-04 21:16:08] [5/30](interval: 100000) train: loss=1.7224 acc=0.37 val: loss=1.7231 acc=0.36\n",
      "[11-05 02:39:27] [6/30](interval: 100000) train: loss=1.7634 acc=0.35 val: loss=1.7630 acc=0.34\n",
      "[11-05 08:32:53] [7/30](interval: 100000) train: loss=1.6994 acc=0.37 val: loss=1.7007 acc=0.37\n",
      "[11-05 14:14:50] [8/30](interval: 100000) train: loss=1.6632 acc=0.39 val: loss=1.6666 acc=0.37\n",
      "[11-05 19:45:54] [9/30](interval: 100000) train: loss=1.6655 acc=0.39 val: loss=1.6696 acc=0.38\n",
      "[11-06 01:17:01] [10/30](interval: 100000) train: loss=1.6554 acc=0.39 val: loss=1.6582 acc=0.38\n",
      "[11-06 06:51:52] [11/30](interval: 100000) train: loss=1.6409 acc=0.40 val: loss=1.6442 acc=0.39\n",
      "[11-06 12:20:35] [12/30](interval: 100000) train: loss=1.6222 acc=0.40 val: loss=1.6277 acc=0.39\n",
      "[11-06 17:56:18] [13/30](interval: 100000) train: loss=1.6067 acc=0.41 val: loss=1.6129 acc=0.40\n",
      "[11-06 23:42:30] [14/30](interval: 100000) train: loss=1.5529 acc=0.43 val: loss=1.5624 acc=0.42\n",
      "[11-07 05:29:06] [15/30](interval: 100000) train: loss=1.5867 acc=0.42 val: loss=1.5946 acc=0.41\n",
      "[11-07 11:21:32] [16/30](interval: 100000) train: loss=1.5332 acc=0.44 val: loss=1.5472 acc=0.43\n",
      "[11-07 17:02:15] [17/30](interval: 100000) train: loss=1.5376 acc=0.44 val: loss=1.5555 acc=0.42\n",
      "[11-07 22:51:00] [18/30](interval: 100000) train: loss=1.5244 acc=0.44 val: loss=1.5414 acc=0.43\n",
      "[11-08 04:28:42] [19/30](interval: 100000) train: loss=1.4856 acc=0.45 val: loss=1.5026 acc=0.44\n",
      "[11-08 10:09:02] [20/30](interval: 100000) train: loss=1.4701 acc=0.46 val: loss=1.4902 acc=0.45\n",
      "[11-08 16:10:35] [21/30](interval: 100000) train: loss=1.5125 acc=0.45 val: loss=1.5268 acc=0.44\n",
      "[11-08 22:07:50] [22/30](interval: 100000) train: loss=1.4531 acc=0.47 val: loss=1.4730 acc=0.45\n",
      "[11-09 04:19:44] [23/30](interval: 100000) train: loss=1.4872 acc=0.46 val: loss=1.5002 acc=0.44\n",
      "[11-09 10:05:23] [24/30](interval: 100000) train: loss=1.5744 acc=0.43 val: loss=1.5777 acc=0.42\n",
      "[11-09 15:39:06] [25/30](interval: 100000) train: loss=1.4686 acc=0.47 val: loss=1.4859 acc=0.45\n",
      "[11-09 21:02:45] [26/30](interval: 100000) train: loss=1.5099 acc=0.45 val: loss=1.5249 acc=0.44\n",
      "[11-10 02:40:45] [27/30](interval: 100000) train: loss=1.4652 acc=0.46 val: loss=1.4831 acc=0.46\n",
      "[11-10 08:26:28] [28/30](interval: 100000) train: loss=1.4287 acc=0.48 val: loss=1.4495 acc=0.47\n",
      "[11-10 14:17:50] [29/30](interval: 100000) train: loss=1.4131 acc=0.48 val: loss=1.4355 acc=0.47\n",
      "[11-10 20:29:05] [30/30](interval: 100000) train: loss=1.4051 acc=0.49 val: loss=1.4329 acc=0.47\n"
     ]
    },
    {
     "data": {
      "image/png": "[encoded data removed]",
      "text/plain": [
       "<Figure size 432x288 with 2 Axes>"
      ]
     },
     "metadata": {
      "needs_background": "light"
     },
     "output_type": "display_data"
    }
   ],
   "source": [
    "_config = SARAHConfig.copy()\n",
    "_config['batchSize'] = 20\n",
    "_config['gamma'] = 1e-4\n",
    "_config['displayInterval'] = 100000\n",
    "_config['rounds'] = 30\n",
    "run(optimizer = CentralSARAH, aggregate = mean, attack = None, config = _config, device=device)"
   ]
  },
  {
   "cell_type": "markdown",
   "metadata": {},
   "source": [
    "## SGD"
   ]
  },
  {
   "cell_type": "markdown",
   "metadata": {},
   "source": [
    "### SGD - mean"
   ]
  },
  {
   "cell_type": "code",
   "execution_count": 183,
   "metadata": {
    "scrolled": false
   },
   "outputs": [
    {
     "name": "stdout",
     "output_type": "stream",
     "text": [
      "[运行信息]\n",
      "[优化方法]   mnist_MLP_SGD(5)_baseline_mean\n",
      "[数据集属性] trainSize=500 validationSize=10000\n",
      "[优化器设置] gamma=0.1 weight_decay=0.0\n",
      "[节点个数]   honestSize=50, byzantineSize=0\n",
      "[运行次数]   rounds=15, displayInterval=1000\n",
      "[torch设置]  device=cpu, SEED=100, fixSeed=False\n",
      "-------------------------------------------\n",
      "[19-09-23 10:30:47] 优化开始\n",
      "[19-09-23 10:30:50] [SGD]初始 train: loss=2.304678 accuracy=0.13 validation: loss=2.304778 accuracy=0.11\n",
      "[19-09-23 10:31:48] [SARAH]已迭代 1/15 rounds (interval: 1000), \n",
      "train: loss=1.643265 accuracy=0.91 validation: loss=1.796671 accuracy=0.74 variance=3.23e-01\n",
      "[19-09-23 10:32:46] [SARAH]已迭代 2/15 rounds (interval: 1000), \n",
      "train: loss=1.529517 accuracy=0.96 validation: loss=1.718004 accuracy=0.79 variance=6.34e-02\n",
      "[19-09-23 10:33:44] [SARAH]已迭代 3/15 rounds (interval: 1000), \n",
      "train: loss=1.509146 accuracy=0.97 validation: loss=1.701012 accuracy=0.80 variance=3.45e-02\n",
      "[19-09-23 10:34:45] [SARAH]已迭代 4/15 rounds (interval: 1000), \n",
      "train: loss=1.497995 accuracy=0.97 validation: loss=1.692937 accuracy=0.80 variance=1.45e-02\n"
     ]
    },
    {
     "ename": "KeyboardInterrupt",
     "evalue": "",
     "output_type": "error",
     "traceback": [
      "\u001b[1;31m---------------------------------------------------------------------------\u001b[0m",
      "\u001b[1;31mKeyboardInterrupt\u001b[0m                         Traceback (most recent call last)",
      "\u001b[1;32m<ipython-input-183-15425cd6efed>\u001b[0m in \u001b[0;36m<module>\u001b[1;34m\u001b[0m\n\u001b[1;32m----> 1\u001b[1;33m \u001b[0mrun\u001b[0m\u001b[1;33m(\u001b[0m\u001b[0moptimizer\u001b[0m \u001b[1;33m=\u001b[0m \u001b[0mSGD\u001b[0m\u001b[1;33m,\u001b[0m \u001b[0maggregate\u001b[0m \u001b[1;33m=\u001b[0m \u001b[0mmean\u001b[0m\u001b[1;33m,\u001b[0m \u001b[0mattack\u001b[0m \u001b[1;33m=\u001b[0m \u001b[1;32mNone\u001b[0m\u001b[1;33m,\u001b[0m \u001b[0mconfig\u001b[0m \u001b[1;33m=\u001b[0m \u001b[0mSGDConfig\u001b[0m\u001b[1;33m)\u001b[0m\u001b[1;33m\u001b[0m\u001b[1;33m\u001b[0m\u001b[0m\n\u001b[0m",
      "\u001b[1;32m<ipython-input-176-5b9ccf815e6f>\u001b[0m in \u001b[0;36mrun\u001b[1;34m(optimizer, aggregate, attack, config, device)\u001b[0m\n\u001b[0;32m     34\u001b[0m     \u001b[1;31m# 开始运行\u001b[0m\u001b[1;33m\u001b[0m\u001b[1;33m\u001b[0m\u001b[1;33m\u001b[0m\u001b[0m\n\u001b[0;32m     35\u001b[0m     \u001b[0mlog\u001b[0m\u001b[1;33m(\u001b[0m\u001b[1;34m'优化开始'\u001b[0m\u001b[1;33m)\u001b[0m\u001b[1;33m\u001b[0m\u001b[1;33m\u001b[0m\u001b[0m\n\u001b[1;32m---> 36\u001b[1;33m     \u001b[0mmodel\u001b[0m\u001b[1;33m,\u001b[0m \u001b[0mtrainLossPath\u001b[0m\u001b[1;33m,\u001b[0m \u001b[0mtrainAccPath\u001b[0m\u001b[1;33m,\u001b[0m \u001b[0mvalLossPath\u001b[0m\u001b[1;33m,\u001b[0m \u001b[0mvalAccPath\u001b[0m\u001b[1;33m,\u001b[0m \u001b[0mvariencePath\u001b[0m \u001b[1;33m=\u001b[0m \u001b[0moptimizer\u001b[0m\u001b[1;33m(\u001b[0m\u001b[0mmodel\u001b[0m\u001b[1;33m,\u001b[0m \u001b[1;33m**\u001b[0m\u001b[0m_config\u001b[0m\u001b[1;33m)\u001b[0m\u001b[1;33m\u001b[0m\u001b[1;33m\u001b[0m\u001b[0m\n\u001b[0m\u001b[0;32m     37\u001b[0m \u001b[1;33m\u001b[0m\u001b[0m\n\u001b[0;32m     38\u001b[0m     record = {\n",
      "\u001b[1;32m<ipython-input-182-d32a6629d343>\u001b[0m in \u001b[0;36mSGD\u001b[1;34m(model, gamma, aggregate, weight_decay, honestSize, byzantineSize, attack, rounds, displayInterval, device, SEED, fixSeed, batchSize, **kw)\u001b[0m\n\u001b[0;32m     67\u001b[0m                 \u001b[1;31m# 反向传播\u001b[0m\u001b[1;33m\u001b[0m\u001b[1;33m\u001b[0m\u001b[1;33m\u001b[0m\u001b[0m\n\u001b[0;32m     68\u001b[0m                 \u001b[0mmodel\u001b[0m\u001b[1;33m.\u001b[0m\u001b[0mzero_grad\u001b[0m\u001b[1;33m(\u001b[0m\u001b[1;33m)\u001b[0m\u001b[1;33m\u001b[0m\u001b[1;33m\u001b[0m\u001b[0m\n\u001b[1;32m---> 69\u001b[1;33m                 \u001b[0mloss\u001b[0m\u001b[1;33m.\u001b[0m\u001b[0mbackward\u001b[0m\u001b[1;33m(\u001b[0m\u001b[1;33m)\u001b[0m\u001b[1;33m\u001b[0m\u001b[1;33m\u001b[0m\u001b[0m\n\u001b[0m\u001b[0;32m     70\u001b[0m \u001b[1;33m\u001b[0m\u001b[0m\n\u001b[0;32m     71\u001b[0m                 \u001b[1;31m# 更新梯度表\u001b[0m\u001b[1;33m\u001b[0m\u001b[1;33m\u001b[0m\u001b[1;33m\u001b[0m\u001b[0m\n",
      "\u001b[1;32mD:\\Anaconda3\\envs\\torch\\lib\\site-packages\\torch\\tensor.py\u001b[0m in \u001b[0;36mbackward\u001b[1;34m(self, gradient, retain_graph, create_graph)\u001b[0m\n\u001b[0;32m    116\u001b[0m                 \u001b[0mproducts\u001b[0m\u001b[1;33m.\u001b[0m \u001b[0mDefaults\u001b[0m \u001b[0mto\u001b[0m\u001b[0;31m \u001b[0m\u001b[0;31m`\u001b[0m\u001b[0;31m`\u001b[0m\u001b[1;32mFalse\u001b[0m\u001b[0;31m`\u001b[0m\u001b[0;31m`\u001b[0m\u001b[1;33m.\u001b[0m\u001b[1;33m\u001b[0m\u001b[1;33m\u001b[0m\u001b[0m\n\u001b[0;32m    117\u001b[0m         \"\"\"\n\u001b[1;32m--> 118\u001b[1;33m         \u001b[0mtorch\u001b[0m\u001b[1;33m.\u001b[0m\u001b[0mautograd\u001b[0m\u001b[1;33m.\u001b[0m\u001b[0mbackward\u001b[0m\u001b[1;33m(\u001b[0m\u001b[0mself\u001b[0m\u001b[1;33m,\u001b[0m \u001b[0mgradient\u001b[0m\u001b[1;33m,\u001b[0m \u001b[0mretain_graph\u001b[0m\u001b[1;33m,\u001b[0m \u001b[0mcreate_graph\u001b[0m\u001b[1;33m)\u001b[0m\u001b[1;33m\u001b[0m\u001b[1;33m\u001b[0m\u001b[0m\n\u001b[0m\u001b[0;32m    119\u001b[0m \u001b[1;33m\u001b[0m\u001b[0m\n\u001b[0;32m    120\u001b[0m     \u001b[1;32mdef\u001b[0m \u001b[0mregister_hook\u001b[0m\u001b[1;33m(\u001b[0m\u001b[0mself\u001b[0m\u001b[1;33m,\u001b[0m \u001b[0mhook\u001b[0m\u001b[1;33m)\u001b[0m\u001b[1;33m:\u001b[0m\u001b[1;33m\u001b[0m\u001b[1;33m\u001b[0m\u001b[0m\n",
      "\u001b[1;32mD:\\Anaconda3\\envs\\torch\\lib\\site-packages\\torch\\autograd\\__init__.py\u001b[0m in \u001b[0;36mbackward\u001b[1;34m(tensors, grad_tensors, retain_graph, create_graph, grad_variables)\u001b[0m\n\u001b[0;32m     91\u001b[0m     Variable._execution_engine.run_backward(\n\u001b[0;32m     92\u001b[0m         \u001b[0mtensors\u001b[0m\u001b[1;33m,\u001b[0m \u001b[0mgrad_tensors\u001b[0m\u001b[1;33m,\u001b[0m \u001b[0mretain_graph\u001b[0m\u001b[1;33m,\u001b[0m \u001b[0mcreate_graph\u001b[0m\u001b[1;33m,\u001b[0m\u001b[1;33m\u001b[0m\u001b[1;33m\u001b[0m\u001b[0m\n\u001b[1;32m---> 93\u001b[1;33m         allow_unreachable=True)  # allow_unreachable flag\n\u001b[0m\u001b[0;32m     94\u001b[0m \u001b[1;33m\u001b[0m\u001b[0m\n\u001b[0;32m     95\u001b[0m \u001b[1;33m\u001b[0m\u001b[0m\n",
      "\u001b[1;31mKeyboardInterrupt\u001b[0m: "
     ]
    }
   ],
   "source": [
    "run(optimizer = SGD, aggregate = mean, attack = None, config = SGDConfig)"
   ]
  },
  {
   "cell_type": "code",
   "execution_count": null,
   "metadata": {
    "scrolled": false
   },
   "outputs": [],
   "source": [
    "run(optimizer = SGD, aggregate = mean, attack = None, config = SGDConfig)"
   ]
  },
  {
   "cell_type": "markdown",
   "metadata": {},
   "source": [
    "white"
   ]
  },
  {
   "cell_type": "code",
   "execution_count": null,
   "metadata": {
    "scrolled": false
   },
   "outputs": [],
   "source": [
    "run(optimizer = SGD, aggregate = mean, attack = white, config = SGDConfig)"
   ]
  },
  {
   "cell_type": "markdown",
   "metadata": {},
   "source": [
    "max"
   ]
  },
  {
   "cell_type": "code",
   "execution_count": null,
   "metadata": {},
   "outputs": [],
   "source": [
    "run(optimizer = SGD, aggregate = mean, attack = maxValue, config = SGDConfig)"
   ]
  },
  {
   "cell_type": "markdown",
   "metadata": {},
   "source": [
    "zero Gradient"
   ]
  },
  {
   "cell_type": "code",
   "execution_count": null,
   "metadata": {},
   "outputs": [],
   "source": [
    "run(optimizer = SGD, aggregate = mean, attack = zeroGradient, config = SGDConfig)"
   ]
  },
  {
   "cell_type": "markdown",
   "metadata": {},
   "source": [
    "### SGD - geomtric median"
   ]
  },
  {
   "cell_type": "code",
   "execution_count": null,
   "metadata": {
    "scrolled": false
   },
   "outputs": [],
   "source": [
    "log('Fmin={}'.format(Fmin))\n",
    "\n",
    "_VRConfig = VRConfig.copy()\n",
    "_VRConfig['aggregate'] = aggregate_geometric\n",
    "_VRConfig['attack'] = None\n",
    "_VRConfig['byzantineSize'] = 0\n",
    "_VRConfig['gamma'] = 2e-2\n",
    "w, path, variancePath = FedSGD(w0, **_VRConfig)\n",
    "\n",
    "record = {\n",
    "    **dataSetConfig,\n",
    "    'gamma': _VRConfig['gamma'],\n",
    "    'path': path,\n",
    "    'variancePath': variancePath,\n",
    "}\n",
    "\n",
    "with open(CACHE_DIR + 'SGD_baseline_gm', 'wb') as f:\n",
    "    pickle.dump(record, f)\n",
    "    \n",
    "axis = plt.axes()\n",
    "plt.plot(list(range(len(path))), logAxis(path, Fmin))\n",
    "axis.set_yscale('log')"
   ]
  },
  {
   "cell_type": "markdown",
   "metadata": {},
   "source": [
    "white"
   ]
  },
  {
   "cell_type": "code",
   "execution_count": null,
   "metadata": {
    "scrolled": false
   },
   "outputs": [],
   "source": [
    "log('Fmin={}'.format(Fmin))\n",
    "\n",
    "_VRConfig = VRConfig.copy()\n",
    "_VRConfig['aggregate'] = aggregate_geometric\n",
    "_VRConfig['attack'] = whiteNoise\n",
    "_VRConfig['gamma'] = 2e-2\n",
    "w, path, variancePath = FedSGD(w0, **_VRConfig)\n",
    "\n",
    "record = {\n",
    "    **dataSetConfig,\n",
    "    'gamma': _VRConfig['gamma'],\n",
    "    'path': path,\n",
    "    'variancePath': variancePath,\n",
    "}\n",
    "\n",
    "with open(CACHE_DIR + 'SGD_white_gm', 'wb') as f:\n",
    "    pickle.dump(record, f)\n",
    "    \n",
    "axis = plt.axes()\n",
    "plt.plot(list(range(len(path))), logAxis(path, Fmin))\n",
    "axis.set_yscale('log')"
   ]
  },
  {
   "cell_type": "markdown",
   "metadata": {},
   "source": [
    "max"
   ]
  },
  {
   "cell_type": "code",
   "execution_count": null,
   "metadata": {
    "scrolled": false
   },
   "outputs": [],
   "source": [
    "log('Fmin={}'.format(Fmin))\n",
    "\n",
    "_VRConfig = VRConfig.copy()\n",
    "_VRConfig['aggregate'] = aggregate_geometric\n",
    "_VRConfig['attack'] = maxValue\n",
    "w, path, variancePath = FedSGD(w0, **_VRConfig)\n",
    "\n",
    "record = {\n",
    "    **dataSetConfig,\n",
    "    'gamma': _VRConfig['gamma'],\n",
    "    'path': path,\n",
    "    'variancePath': variancePath,\n",
    "}\n",
    "\n",
    "with open(CACHE_DIR + 'SGD_maxValue_gm', 'wb') as f:\n",
    "    pickle.dump(record, f)\n",
    "    \n",
    "axis = plt.axes()\n",
    "plt.plot(list(range(len(path))), logAxis(path, Fmin))\n",
    "axis.set_yscale('log')"
   ]
  },
  {
   "cell_type": "markdown",
   "metadata": {},
   "source": [
    "zero Gradient"
   ]
  },
  {
   "cell_type": "code",
   "execution_count": null,
   "metadata": {
    "scrolled": false
   },
   "outputs": [],
   "source": [
    "log('Fmin={}'.format(Fmin))\n",
    "\n",
    "_VRConfig = VRConfig.copy()\n",
    "_VRConfig['aggregate'] = aggregate_geometric\n",
    "_VRConfig['attack'] = zeroGradient\n",
    "w, path, variancePath = FedSGD(w0, **_VRConfig)\n",
    "\n",
    "record = {\n",
    "    **dataSetConfig,\n",
    "    'gamma': _VRConfig['gamma'],\n",
    "    'path': path,\n",
    "    'variancePath': variancePath,\n",
    "}\n",
    "\n",
    "with open(CACHE_DIR + 'SGD_zeroGradient_gm', 'wb') as f:\n",
    "    pickle.dump(record, f)\n",
    "    \n",
    "axis = plt.axes()\n",
    "plt.plot(list(range(len(path))), logAxis(path, Fmin))\n",
    "axis.set_yscale('log')"
   ]
  },
  {
   "cell_type": "markdown",
   "metadata": {},
   "source": [
    "### SGD - Krum"
   ]
  },
  {
   "cell_type": "code",
   "execution_count": null,
   "metadata": {
    "scrolled": false
   },
   "outputs": [],
   "source": [
    "log('Fmin={}'.format(Fmin))\n",
    "\n",
    "_VRConfig = VRConfig.copy()\n",
    "_VRConfig['aggregate'] = Krum_(nodeSize=dataSetConfig['honestNodeSize'], byzantineSize=0)\n",
    "_VRConfig['attack'] = None\n",
    "_VRConfig['byzantineSize'] = 0\n",
    "w, path, variancePath = FedSGD(w0, **_VRConfig)\n",
    "\n",
    "record = {\n",
    "    **dataSetConfig,\n",
    "    'gamma': _VRConfig['gamma'],\n",
    "    'path': path,\n",
    "    'variancePath': variancePath,\n",
    "}\n",
    "\n",
    "with open(CACHE_DIR + 'SGD_baseline_krum', 'wb') as f:\n",
    "    pickle.dump(record, f)\n",
    "    \n",
    "axis = plt.axes()\n",
    "plt.plot(list(range(len(path))), logAxis(path, Fmin))\n",
    "axis.set_yscale('log')"
   ]
  },
  {
   "cell_type": "markdown",
   "metadata": {},
   "source": [
    "white"
   ]
  },
  {
   "cell_type": "code",
   "execution_count": null,
   "metadata": {
    "scrolled": false
   },
   "outputs": [],
   "source": [
    "torch.manual_seed(SEED)#为CPU设置随机种子\n",
    "# torch.cuda.manual_seed(seed)#为当前GPU设置随机种子\n",
    "# torch.cuda.manual_seed_all(seed)#为所有GPU设置随机种子\n",
    "\n",
    "log('Fmin={}'.format(Fmin))\n",
    "\n",
    "_VRConfig = VRConfig.copy()\n",
    "_VRConfig['aggregate'] = Krum_(nodeSize=dataSetConfig['honestNodeSize'], byzantineSize=dataSetConfig['byzantineNodeSize'])\n",
    "_VRConfig['attack'] = whiteNoise\n",
    "w, path, variancePath = FedSGD(w0, **_VRConfig)\n",
    "\n",
    "record = {\n",
    "    **dataSetConfig,\n",
    "    'gamma': _VRConfig['gamma'],\n",
    "    'path': path,\n",
    "    'variancePath': variancePath,\n",
    "}\n",
    "with open(CACHE_DIR + 'SGD_white_Krum', 'wb') as f:\n",
    "    pickle.dump(record, f)\n",
    "    \n",
    "axis = plt.axes()\n",
    "plt.plot(list(range(len(path))), logAxis(path, Fmin))\n",
    "axis.set_yscale('log')"
   ]
  },
  {
   "cell_type": "markdown",
   "metadata": {},
   "source": [
    "max"
   ]
  },
  {
   "cell_type": "code",
   "execution_count": null,
   "metadata": {
    "scrolled": false
   },
   "outputs": [],
   "source": [
    "log('Fmin={}'.format(Fmin))\n",
    "\n",
    "_VRConfig = VRConfig.copy()\n",
    "_VRConfig['aggregate'] = Krum_(nodeSize=dataSetConfig['honestNodeSize'], byzantineSize=dataSetConfig['byzantineNodeSize'])\n",
    "_VRConfig['attack'] = maxValue\n",
    "w, path, variancePath = FedSGD(w0, **_VRConfig)\n",
    "\n",
    "record = {\n",
    "    **dataSetConfig,\n",
    "    'gamma': _VRConfig['gamma'],\n",
    "    'path': path,\n",
    "    'variancePath': variancePath,\n",
    "}\n",
    "\n",
    "with open(CACHE_DIR + 'SGD_maxValue_Krum', 'wb') as f:\n",
    "    pickle.dump(record, f)\n",
    "    \n",
    "axis = plt.axes()\n",
    "plt.plot(list(range(len(path))), logAxis(path, Fmin))\n",
    "axis.set_yscale('log')"
   ]
  },
  {
   "cell_type": "markdown",
   "metadata": {},
   "source": [
    "zero Gradient"
   ]
  },
  {
   "cell_type": "code",
   "execution_count": null,
   "metadata": {
    "scrolled": true
   },
   "outputs": [],
   "source": [
    "log('Fmin={}'.format(Fmin))\n",
    "\n",
    "_VRConfig = VRConfig.copy()\n",
    "_VRConfig['aggregate'] = Krum_(nodeSize=dataSetConfig['honestNodeSize'], byzantineSize=dataSetConfig['byzantineNodeSize'])\n",
    "_VRConfig['attack'] = zeroGradient\n",
    "w, path, variancePath = FedSGD(w0, **_VRConfig)\n",
    "\n",
    "record = {\n",
    "    **dataSetConfig,\n",
    "    'gamma': _VRConfig['gamma'],\n",
    "    'path': path,\n",
    "    'variancePath': variancePath,\n",
    "}\n",
    "\n",
    "with open(CACHE_DIR + 'SGD_zeroGradient_Krum', 'wb') as f:\n",
    "    pickle.dump(record, f)\n",
    "    \n",
    "axis = plt.axes()\n",
    "plt.plot(list(range(len(path))), logAxis(path, Fmin))\n",
    "axis.set_yscale('log')"
   ]
  },
  {
   "cell_type": "markdown",
   "metadata": {},
   "source": [
    "### SGD - Median"
   ]
  },
  {
   "cell_type": "code",
   "execution_count": null,
   "metadata": {
    "scrolled": false
   },
   "outputs": [],
   "source": [
    "torch.manual_seed(SEED)#为CPU设置随机种子\n",
    "# torch.cuda.manual_seed(seed)#为当前GPU设置随机种子\n",
    "# torch.cuda.manual_seed_all(seed)#为所有GPU设置随机种子\n",
    "\n",
    "log('Fmin={}'.format(Fmin))\n",
    "\n",
    "_VRConfig = VRConfig.copy()\n",
    "_VRConfig['aggregate'] = median\n",
    "_VRConfig['attack'] = None\n",
    "_VRConfig['byzantineSize'] = 0\n",
    "w, path, variancePath = FedSGD(w0, **_VRConfig)\n",
    "\n",
    "record = {\n",
    "    **dataSetConfig,\n",
    "    'gamma': _VRConfig['gamma'],\n",
    "    'path': path,\n",
    "    'variancePath': variancePath,\n",
    "}\n",
    "\n",
    "with open(CACHE_DIR + 'SGD_baseline_median', 'wb') as f:\n",
    "    pickle.dump(record, f)\n",
    "    \n",
    "axis = plt.axes()\n",
    "plt.plot(list(range(len(path))), logAxis(path, Fmin))\n",
    "axis.set_yscale('log')"
   ]
  },
  {
   "cell_type": "markdown",
   "metadata": {},
   "source": [
    "white"
   ]
  },
  {
   "cell_type": "code",
   "execution_count": null,
   "metadata": {
    "scrolled": false
   },
   "outputs": [],
   "source": [
    "torch.manual_seed(SEED)#为CPU设置随机种子\n",
    "# torch.cuda.manual_seed(seed)#为当前GPU设置随机种子\n",
    "# torch.cuda.manual_seed_all(seed)#为所有GPU设置随机种子\n",
    "\n",
    "log('Fmin={}'.format(Fmin))\n",
    "\n",
    "_VRConfig = VRConfig.copy()\n",
    "_VRConfig['aggregate'] = median\n",
    "_VRConfig['attack'] = whiteNoise\n",
    "w, path, variancePath = FedSGD(w0, **_VRConfig)\n",
    "\n",
    "record = {\n",
    "    **dataSetConfig,\n",
    "    'gamma': _VRConfig['gamma'],\n",
    "    'path': path,\n",
    "    'variancePath': variancePath,\n",
    "}\n",
    "\n",
    "with open(CACHE_DIR + 'SGD_white_median', 'wb') as f:\n",
    "    pickle.dump(record, f)\n",
    "    \n",
    "axis = plt.axes()\n",
    "plt.plot(list(range(len(path))), logAxis(path, Fmin))\n",
    "axis.set_yscale('log')"
   ]
  },
  {
   "cell_type": "markdown",
   "metadata": {},
   "source": [
    "max"
   ]
  },
  {
   "cell_type": "code",
   "execution_count": null,
   "metadata": {
    "scrolled": false
   },
   "outputs": [],
   "source": [
    "torch.manual_seed(SEED)#为CPU设置随机种子\n",
    "# torch.cuda.manual_seed(seed)#为当前GPU设置随机种子\n",
    "# torch.cuda.manual_seed_all(seed)#为所有GPU设置随机种子\n",
    "\n",
    "log('Fmin={}'.format(Fmin))\n",
    "\n",
    "_VRConfig = VRConfig.copy()\n",
    "_VRConfig['aggregate'] = median\n",
    "_VRConfig['attack'] = maxValue\n",
    "w, path, variancePath = FedSGD(w0, **_VRConfig)\n",
    "\n",
    "record = {\n",
    "    **dataSetConfig,\n",
    "    'gamma': _VRConfig['gamma'],\n",
    "    'path': path,\n",
    "    'variancePath': variancePath,\n",
    "}\n",
    "\n",
    "with open(CACHE_DIR + 'SGD_maxValue_median', 'wb') as f:\n",
    "    pickle.dump(record, f)\n",
    "    \n",
    "axis = plt.axes()\n",
    "plt.plot(list(range(len(path))), logAxis(path, Fmin))\n",
    "axis.set_yscale('log')"
   ]
  },
  {
   "cell_type": "markdown",
   "metadata": {},
   "source": [
    "zero Gradient"
   ]
  },
  {
   "cell_type": "code",
   "execution_count": null,
   "metadata": {
    "scrolled": true
   },
   "outputs": [],
   "source": [
    "torch.manual_seed(SEED)#为CPU设置随机种子\n",
    "# torch.cuda.manual_seed(seed)#为当前GPU设置随机种子\n",
    "# torch.cuda.manual_seed_all(seed)#为所有GPU设置随机种子\n",
    "\n",
    "log('Fmin={}'.format(Fmin))\n",
    "\n",
    "_VRConfig = VRConfig.copy()\n",
    "_VRConfig['aggregate'] = median\n",
    "_VRConfig['attack'] = zeroGradient\n",
    "w, path, variancePath = FedSGD(w0, **_VRConfig)\n",
    "\n",
    "record = {\n",
    "    **dataSetConfig,\n",
    "    'gamma': _VRConfig['gamma'],\n",
    "    'path': path,\n",
    "    'variancePath': variancePath,\n",
    "}\n",
    "\n",
    "with open(CACHE_DIR + 'SGD_zeroGradient_median', 'wb') as f:\n",
    "    pickle.dump(record, f)\n",
    "    \n",
    "axis = plt.axes()\n",
    "plt.plot(list(range(len(path))), logAxis(path, Fmin))\n",
    "axis.set_yscale('log')"
   ]
  },
  {
   "cell_type": "markdown",
   "metadata": {},
   "source": [
    "## BatchSGD"
   ]
  },
  {
   "cell_type": "markdown",
   "metadata": {},
   "source": [
    "### BatchSGD - mean"
   ]
  },
  {
   "cell_type": "code",
   "execution_count": null,
   "metadata": {
    "scrolled": false
   },
   "outputs": [],
   "source": [
    "log('Fmin={}'.format(Fmin))\n",
    "\n",
    "_VRConfig = batchConfig.copy()\n",
    "_VRConfig['aggregate'] = aggregate_linear\n",
    "_VRConfig['attack'] = None\n",
    "_VRConfig['byzantineSize'] = 0\n",
    "\n",
    "w, path, variancePath = FedBatchSGD(w0, **_VRConfig)\n",
    "\n",
    "record = {\n",
    "    **dataSetConfig,\n",
    "    'gamma': _VRConfig['gamma'],\n",
    "    'batchSize': _VRConfig['batchSize'],\n",
    "    'path': path,\n",
    "    'variancePath': variancePath,\n",
    "}\n",
    "\n",
    "with open(CACHE_DIR + 'BatchSGD_baseline_mean', 'wb') as f:\n",
    "    pickle.dump(record, f)\n",
    "    \n",
    "axis = plt.axes()\n",
    "plt.plot(list(range(len(path))), logAxis(path, Fmin))\n",
    "axis.set_yscale('log')"
   ]
  },
  {
   "cell_type": "markdown",
   "metadata": {},
   "source": [
    "white"
   ]
  },
  {
   "cell_type": "code",
   "execution_count": null,
   "metadata": {
    "scrolled": false
   },
   "outputs": [],
   "source": [
    "log('Fmin={}'.format(Fmin))\n",
    "\n",
    "_VRConfig = batchConfig.copy()\n",
    "_VRConfig['aggregate'] = aggregate_linear\n",
    "_VRConfig['attack'] = whiteNoise\n",
    "w, path, variancePath = FedBatchSGD(w0, **_VRConfig)\n",
    "\n",
    "record = {\n",
    "    **dataSetConfig,\n",
    "    'gamma': _VRConfig['gamma'],\n",
    "    'batchSize': _VRConfig['batchSize'],\n",
    "    'path': path,\n",
    "    'variancePath': variancePath,\n",
    "}\n",
    "\n",
    "with open(CACHE_DIR + 'BatchSGD_white_mean', 'wb') as f:\n",
    "    pickle.dump(record, f)\n",
    "    \n",
    "axis = plt.axes()\n",
    "plt.plot(list(range(len(path))), logAxis(path, Fmin))\n",
    "axis.set_yscale('log')"
   ]
  },
  {
   "cell_type": "markdown",
   "metadata": {},
   "source": [
    "max"
   ]
  },
  {
   "cell_type": "code",
   "execution_count": null,
   "metadata": {
    "code_folding": [],
    "scrolled": false
   },
   "outputs": [],
   "source": [
    "log('Fmin={}'.format(Fmin))\n",
    "\n",
    "_VRConfig = batchConfig.copy()\n",
    "_VRConfig['aggregate'] = aggregate_linear\n",
    "_VRConfig['attack'] = maxValue\n",
    "w, path, variancePath = FedBatchSGD(w0, **_VRConfig)\n",
    "\n",
    "record = {\n",
    "    **dataSetConfig,\n",
    "    'gamma': _VRConfig['gamma'],\n",
    "    'batchSize': _VRConfig['batchSize'],\n",
    "    'path': path,\n",
    "    'variancePath': variancePath,\n",
    "}\n",
    "\n",
    "with open(CACHE_DIR + 'BatchSGD_maxValue_mean', 'wb') as f:\n",
    "    pickle.dump(record, f)\n",
    "    \n",
    "axis = plt.axes()\n",
    "plt.plot(list(range(len(path))), logAxis(path, Fmin))\n",
    "axis.set_yscale('log')"
   ]
  },
  {
   "cell_type": "markdown",
   "metadata": {},
   "source": [
    "zero Gradient"
   ]
  },
  {
   "cell_type": "code",
   "execution_count": null,
   "metadata": {
    "scrolled": true
   },
   "outputs": [],
   "source": [
    "log('Fmin={}'.format(Fmin))\n",
    "\n",
    "_VRConfig = batchConfig.copy()\n",
    "_VRConfig['aggregate'] = aggregate_linear\n",
    "_VRConfig['attack'] = zeroGradient\n",
    "w, path, variancePath = FedBatchSGD(w0, **_VRConfig)\n",
    "\n",
    "record = {\n",
    "    **dataSetConfig,\n",
    "    'gamma': _VRConfig['gamma'],\n",
    "    'batchSize': _VRConfig['batchSize'],\n",
    "    'path': path,\n",
    "    'variancePath': variancePath,\n",
    "}\n",
    "\n",
    "with open(CACHE_DIR + 'BatchSGD_zeroGradient_mean', 'wb') as f:\n",
    "    pickle.dump(record, f)\n",
    "    \n",
    "axis = plt.axes()\n",
    "plt.plot(list(range(len(path))), logAxis(path, Fmin))\n",
    "axis.set_yscale('log')"
   ]
  },
  {
   "cell_type": "markdown",
   "metadata": {},
   "source": [
    "### BatchSGD - geomtric median"
   ]
  },
  {
   "cell_type": "code",
   "execution_count": null,
   "metadata": {
    "scrolled": false
   },
   "outputs": [],
   "source": [
    "log('Fmin={}'.format(Fmin))\n",
    "\n",
    "_VRConfig = batchConfig.copy()\n",
    "_VRConfig['aggregate'] = aggregate_geometric\n",
    "_VRConfig['attack'] = None\n",
    "_VRConfig['byzantineSize'] = 0\n",
    "w, path, variancePath = FedBatchSGD(w0, **_VRConfig)\n",
    "\n",
    "record = {\n",
    "    **dataSetConfig,\n",
    "    'gamma': _VRConfig['gamma'],\n",
    "    'batchSize': _VRConfig['batchSize'],\n",
    "    'path': path,\n",
    "    'variancePath': variancePath,\n",
    "}\n",
    "\n",
    "with open(CACHE_DIR + 'BatchSGD_baseline_gm', 'wb') as f:\n",
    "    pickle.dump(record, f)\n",
    "    \n",
    "axis = plt.axes()\n",
    "plt.plot(list(range(len(path))), logAxis(path, Fmin))\n",
    "axis.set_yscale('log')"
   ]
  },
  {
   "cell_type": "markdown",
   "metadata": {},
   "source": [
    "white"
   ]
  },
  {
   "cell_type": "code",
   "execution_count": null,
   "metadata": {
    "scrolled": false
   },
   "outputs": [],
   "source": [
    "log('Fmin={}'.format(Fmin))\n",
    "\n",
    "_VRConfig = batchConfig.copy()\n",
    "_VRConfig['aggregate'] = aggregate_geometric\n",
    "_VRConfig['attack'] = whiteNoise\n",
    "w, path, variancePath = FedBatchSGD(w0, **_VRConfig)\n",
    "\n",
    "record = {\n",
    "    **dataSetConfig,\n",
    "    'gamma': _VRConfig['gamma'],\n",
    "    'batchSize': _VRConfig['batchSize'],\n",
    "    'path': path,\n",
    "    'variancePath': variancePath,\n",
    "}\n",
    "\n",
    "with open(CACHE_DIR + 'BatchSGD_white_gm', 'wb') as f:\n",
    "    pickle.dump(record, f)\n",
    "    \n",
    "axis = plt.axes()\n",
    "plt.plot(list(range(len(path))), logAxis(path, Fmin))\n",
    "axis.set_yscale('log')"
   ]
  },
  {
   "cell_type": "markdown",
   "metadata": {},
   "source": [
    "max"
   ]
  },
  {
   "cell_type": "code",
   "execution_count": null,
   "metadata": {
    "scrolled": false
   },
   "outputs": [],
   "source": [
    "log('Fmin={}'.format(Fmin))\n",
    "\n",
    "_VRConfig = batchConfig.copy()\n",
    "_VRConfig['aggregate'] = aggregate_geometric\n",
    "_VRConfig['attack'] = maxValue\n",
    "w, path, variancePath = FedBatchSGD(w0, **_VRConfig)\n",
    "\n",
    "record = {\n",
    "    **dataSetConfig,\n",
    "    'gamma': _VRConfig['gamma'],\n",
    "    'batchSize': _VRConfig['batchSize'],\n",
    "    'path': path,\n",
    "    'variancePath': variancePath,\n",
    "}\n",
    "\n",
    "with open(CACHE_DIR + 'BatchSGD_maxValue_gm', 'wb') as f:\n",
    "    pickle.dump(record, f)\n",
    "    \n",
    "axis = plt.axes()\n",
    "plt.plot(list(range(len(path))), logAxis(path, Fmin))\n",
    "axis.set_yscale('log')"
   ]
  },
  {
   "cell_type": "markdown",
   "metadata": {},
   "source": [
    "zero Gradient"
   ]
  },
  {
   "cell_type": "code",
   "execution_count": null,
   "metadata": {
    "scrolled": false
   },
   "outputs": [],
   "source": [
    "log('Fmin={}'.format(Fmin))\n",
    "\n",
    "_VRConfig = batchConfig.copy()\n",
    "_VRConfig['aggregate'] = aggregate_geometric\n",
    "_VRConfig['attack'] = zeroGradient\n",
    "w, path, variancePath = FedBatchSGD(w0, **_VRConfig)\n",
    "\n",
    "record = {\n",
    "    **dataSetConfig,\n",
    "    'gamma': _VRConfig['gamma'],\n",
    "    'batchSize': _VRConfig['batchSize'],\n",
    "    'path': path,\n",
    "    'variancePath': variancePath,\n",
    "}\n",
    "\n",
    "with open(CACHE_DIR + 'BatchSGD_zeroGradient_gm', 'wb') as f:\n",
    "    pickle.dump(record, f)\n",
    "    \n",
    "axis = plt.axes()\n",
    "plt.plot(list(range(len(path))), logAxis(path, Fmin))\n",
    "axis.set_yscale('log')"
   ]
  },
  {
   "cell_type": "markdown",
   "metadata": {},
   "source": [
    "## SAGA"
   ]
  },
  {
   "cell_type": "markdown",
   "metadata": {},
   "source": [
    "### SAGA - mean"
   ]
  },
  {
   "cell_type": "code",
   "execution_count": null,
   "metadata": {},
   "outputs": [],
   "source": [
    "log('Fmin={}'.format(Fmin))\n",
    "\n",
    "_VRConfig = VRConfig.copy()\n",
    "_VRConfig['aggregate'] = aggregate_linear\n",
    "_VRConfig['attack'] = None\n",
    "_VRConfig['byzantineSize'] = 0\n",
    "w, path, variancePath = FedSAGA(w0, **_VRConfig)\n",
    "\n",
    "record = {\n",
    "    **dataSetConfig,\n",
    "    'gamma': _VRConfig['gamma'],\n",
    "    'path': path,\n",
    "    'variancePath': variancePath,\n",
    "}\n",
    "\n",
    "with open(CACHE_DIR + 'SAGA_baseline_mean', 'wb') as f:\n",
    "    pickle.dump(record, f)\n",
    "    \n",
    "axis = plt.axes()\n",
    "plt.plot(list(range(len(path))), logAxis(path, Fmin))\n",
    "axis.set_yscale('log')"
   ]
  },
  {
   "cell_type": "markdown",
   "metadata": {},
   "source": [
    "white"
   ]
  },
  {
   "cell_type": "code",
   "execution_count": null,
   "metadata": {
    "scrolled": false
   },
   "outputs": [],
   "source": [
    "torch.manual_seed(SEED)#为CPU设置随机种子\n",
    "# torch.cuda.manual_seed(seed)#为当前GPU设置随机种子\n",
    "# torch.cuda.manual_seed_all(seed)#为所有GPU设置随机种子\n",
    "\n",
    "log('Fmin={}'.format(Fmin))\n",
    "\n",
    "_VRConfig = VRConfig.copy()\n",
    "_VRConfig['aggregate'] = aggregate_linear\n",
    "_VRConfig['attack'] = whiteNoise\n",
    "w, path, variancePath = FedSAGA(w0, **_VRConfig)\n",
    "\n",
    "record = {\n",
    "    **dataSetConfig,\n",
    "    'gamma': _VRConfig['gamma'],\n",
    "    'path': path,\n",
    "    'variancePath': variancePath,\n",
    "}\n",
    "\n",
    "with open(CACHE_DIR + 'SAGA_white_mean', 'wb') as f:\n",
    "    pickle.dump(record, f)\n",
    "    \n",
    "axis = plt.axes()\n",
    "plt.plot(list(range(len(path))), logAxis(path, Fmin))\n",
    "axis.set_yscale('log')"
   ]
  },
  {
   "cell_type": "code",
   "execution_count": null,
   "metadata": {
    "scrolled": false
   },
   "outputs": [],
   "source": [
    "torch.manual_seed(SEED)#为CPU设置随机种子\n",
    "# torch.cuda.manual_seed(seed)#为当前GPU设置随机种子\n",
    "# torch.cuda.manual_seed_all(seed)#为所有GPU设置随机种子\n",
    "\n",
    "log('Fmin={}'.format(Fmin))\n",
    "\n",
    "_VRConfig = VRConfig.copy()\n",
    "_VRConfig['aggregate'] = aggregate_linear\n",
    "_VRConfig['attack'] = whiteNoise\n",
    "w, path, variancePath = FedSAGA(w0, **_VRConfig)\n",
    "\n",
    "record = {\n",
    "    **dataSetConfig,\n",
    "    'gamma': _VRConfig['gamma'],\n",
    "    'path': path,\n",
    "    'variancePath': variancePath,\n",
    "}\n",
    "\n",
    "with open(CACHE_DIR + 'SAGA_white_mean', 'wb') as f:\n",
    "    pickle.dump(record, f)\n",
    "    \n",
    "axis = plt.axes()\n",
    "plt.plot(list(range(len(path))), logAxis(path, Fmin))\n",
    "axis.set_yscale('log')"
   ]
  },
  {
   "cell_type": "markdown",
   "metadata": {},
   "source": [
    "max"
   ]
  },
  {
   "cell_type": "code",
   "execution_count": null,
   "metadata": {
    "scrolled": false
   },
   "outputs": [],
   "source": [
    "torch.manual_seed(SEED)#为CPU设置随机种子\n",
    "# torch.cuda.manual_seed(seed)#为当前GPU设置随机种子\n",
    "# torch.cuda.manual_seed_all(seed)#为所有GPU设置随机种子\n",
    "\n",
    "log('Fmin={}'.format(Fmin))\n",
    "\n",
    "_VRConfig = VRConfig.copy()\n",
    "_VRConfig['aggregate'] = aggregate_linear\n",
    "_VRConfig['attack'] = maxValue\n",
    "w, path, variancePath = FedSAGA(w0, **_VRConfig)\n",
    "\n",
    "record = {\n",
    "    **dataSetConfig,\n",
    "    'gamma': _VRConfig['gamma'],\n",
    "    'path': path,\n",
    "    'variancePath': variancePath,\n",
    "}\n",
    "\n",
    "with open(CACHE_DIR + 'SAGA_maxValue_mean', 'wb') as f:\n",
    "    pickle.dump(record, f)\n",
    "    \n",
    "axis = plt.axes()\n",
    "plt.plot(list(range(len(path))), logAxis(path, Fmin))\n",
    "axis.set_yscale('log')"
   ]
  },
  {
   "cell_type": "markdown",
   "metadata": {},
   "source": [
    "zero Gradient"
   ]
  },
  {
   "cell_type": "code",
   "execution_count": null,
   "metadata": {
    "scrolled": false
   },
   "outputs": [],
   "source": [
    "torch.manual_seed(SEED)#为CPU设置随机种子\n",
    "# torch.cuda.manual_seed(seed)#为当前GPU设置随机种子\n",
    "# torch.cuda.manual_seed_all(seed)#为所有GPU设置随机种子\n",
    "\n",
    "log('Fmin={}'.format(Fmin))\n",
    "\n",
    "_VRConfig = VRConfig.copy()\n",
    "_VRConfig['aggregate'] = aggregate_linear\n",
    "_VRConfig['attack'] = zeroGradient\n",
    "w, path, variancePath = FedSAGA(w0, **_VRConfig)\n",
    "\n",
    "record = {\n",
    "    **dataSetConfig,\n",
    "    'gamma': _VRConfig['gamma'],\n",
    "    'path': path,\n",
    "    'variancePath': variancePath,\n",
    "}\n",
    "\n",
    "with open(CACHE_DIR + 'SAGA_zeroGradient_mean', 'wb') as f:\n",
    "    pickle.dump(record, f)\n",
    "    \n",
    "axis = plt.axes()\n",
    "plt.plot(list(range(len(path))), logAxis(path, Fmin))\n",
    "axis.set_yscale('log')"
   ]
  },
  {
   "cell_type": "markdown",
   "metadata": {},
   "source": [
    "### SAGA - geomtric median"
   ]
  },
  {
   "cell_type": "code",
   "execution_count": null,
   "metadata": {
    "scrolled": false
   },
   "outputs": [],
   "source": [
    "torch.manual_seed(SEED)#为CPU设置随机种子\n",
    "# torch.cuda.manual_seed(seed)#为当前GPU设置随机种子\n",
    "# torch.cuda.manual_seed_all(seed)#为所有GPU设置随机种子\n",
    "\n",
    "log('Fmin={}'.format(Fmin))\n",
    "\n",
    "_VRConfig = VRConfig.copy()\n",
    "_VRConfig['aggregate'] = aggregate_geometric\n",
    "_VRConfig['attack'] = None\n",
    "_VRConfig['byzantineSize'] = 0\n",
    "w, path, variancePath = FedSAGA(w0, **_VRConfig)\n",
    "\n",
    "record = {\n",
    "    **dataSetConfig,\n",
    "    'gamma': _VRConfig['gamma'],\n",
    "    'path': path,\n",
    "    'variancePath': variancePath,\n",
    "}\n",
    "\n",
    "with open(CACHE_DIR + 'SAGA_baseline_gm', 'wb') as f:\n",
    "    pickle.dump(record, f)\n",
    "    \n",
    "axis = plt.axes()\n",
    "plt.plot(list(range(len(path))), logAxis(path, Fmin))\n",
    "axis.set_yscale('log')"
   ]
  },
  {
   "cell_type": "markdown",
   "metadata": {},
   "source": [
    "white"
   ]
  },
  {
   "cell_type": "code",
   "execution_count": null,
   "metadata": {
    "scrolled": false
   },
   "outputs": [],
   "source": [
    "torch.manual_seed(SEED)#为CPU设置随机种子\n",
    "# torch.cuda.manual_seed(seed)#为当前GPU设置随机种子\n",
    "# torch.cuda.manual_seed_all(seed)#为所有GPU设置随机种子\n",
    "\n",
    "log('Fmin={}'.format(Fmin))\n",
    "\n",
    "_VRConfig = VRConfig.copy()\n",
    "_VRConfig['aggregate'] = aggregate_geometric\n",
    "_VRConfig['attack'] = whiteNoise\n",
    "w, path, variancePath = FedSAGA(w0, **_VRConfig)\n",
    "\n",
    "record = {\n",
    "    **dataSetConfig,\n",
    "    'gamma': _VRConfig['gamma'],\n",
    "    'path': path,\n",
    "    'variancePath': variancePath,\n",
    "}\n",
    "\n",
    "with open(CACHE_DIR + 'SAGA_white_gm', 'wb') as f:\n",
    "    pickle.dump(record, f)\n",
    "    \n",
    "axis = plt.axes()\n",
    "plt.plot(list(range(len(path))), logAxis(path, Fmin))\n",
    "axis.set_yscale('log')"
   ]
  },
  {
   "cell_type": "markdown",
   "metadata": {},
   "source": [
    "max"
   ]
  },
  {
   "cell_type": "code",
   "execution_count": 3,
   "metadata": {
    "scrolled": false
   },
   "outputs": [
    {
     "ename": "NameError",
     "evalue": "name 'torch' is not defined",
     "output_type": "error",
     "traceback": [
      "\u001b[0;31m---------------------------------------------------------------------------\u001b[0m",
      "\u001b[0;31mNameError\u001b[0m                                 Traceback (most recent call last)",
      "\u001b[0;32m<ipython-input-3-ff473ac37784>\u001b[0m in \u001b[0;36m<module>\u001b[0;34m\u001b[0m\n\u001b[0;32m----> 1\u001b[0;31m \u001b[0mtorch\u001b[0m\u001b[0;34m.\u001b[0m\u001b[0mmanual_seed\u001b[0m\u001b[0;34m(\u001b[0m\u001b[0mSEED\u001b[0m\u001b[0;34m)\u001b[0m\u001b[0;31m#为CPU设置随机种子\u001b[0m\u001b[0;34m\u001b[0m\u001b[0;34m\u001b[0m\u001b[0m\n\u001b[0m\u001b[1;32m      2\u001b[0m \u001b[0;31m# torch.cuda.manual_seed(seed)#为当前GPU设置随机种子\u001b[0m\u001b[0;34m\u001b[0m\u001b[0;34m\u001b[0m\u001b[0;34m\u001b[0m\u001b[0m\n\u001b[1;32m      3\u001b[0m \u001b[0;31m# torch.cuda.manual_seed_all(seed)#为所有GPU设置随机种子\u001b[0m\u001b[0;34m\u001b[0m\u001b[0;34m\u001b[0m\u001b[0;34m\u001b[0m\u001b[0m\n\u001b[1;32m      4\u001b[0m \u001b[0;34m\u001b[0m\u001b[0m\n\u001b[1;32m      5\u001b[0m \u001b[0mlog\u001b[0m\u001b[0;34m(\u001b[0m\u001b[0;34m'Fmin={}'\u001b[0m\u001b[0;34m.\u001b[0m\u001b[0mformat\u001b[0m\u001b[0;34m(\u001b[0m\u001b[0mFmin\u001b[0m\u001b[0;34m)\u001b[0m\u001b[0;34m)\u001b[0m\u001b[0;34m\u001b[0m\u001b[0;34m\u001b[0m\u001b[0m\n",
      "\u001b[0;31mNameError\u001b[0m: name 'torch' is not defined"
     ]
    }
   ],
   "source": [
    "torch.manual_seed(SEED)#为CPU设置随机种子\n",
    "# torch.cuda.manual_seed(seed)#为当前GPU设置随机种子\n",
    "# torch.cuda.manual_seed_all(seed)#为所有GPU设置随机种子\n",
    "\n",
    "log('Fmin={}'.format(Fmin))\n",
    "\n",
    "_VRConfig = VRConfig.copy()\n",
    "_VRConfig['aggregate'] = aggregate_geometric\n",
    "_VRConfig['attack'] = maxValue\n",
    "w, path, variancePath = FedSAGA(w0, **_VRConfig)\n",
    "\n",
    "record = {\n",
    "    **dataSetConfig,\n",
    "    'gamma': _VRConfig['gamma'],\n",
    "    'path': path,\n",
    "    'variancePath': variancePath,\n",
    "}\n",
    "\n",
    "with open(CACHE_DIR + 'SAGA_maxValue_gm', 'wb') as f:\n",
    "    pickle.dump(record, f)\n",
    "    \n",
    "axis = plt.axes()\n",
    "plt.plot(list(range(len(path))), logAxis(path, Fmin))\n",
    "axis.set_yscale('log')"
   ]
  },
  {
   "cell_type": "markdown",
   "metadata": {},
   "source": [
    "zero Gradient"
   ]
  },
  {
   "cell_type": "code",
   "execution_count": null,
   "metadata": {
    "scrolled": false
   },
   "outputs": [],
   "source": [
    "torch.manual_seed(SEED)#为CPU设置随机种子\n",
    "# torch.cuda.manual_seed(seed)#为当前GPU设置随机种子\n",
    "# torch.cuda.manual_seed_all(seed)#为所有GPU设置随机种子\n",
    "\n",
    "log('Fmin={}'.format(Fmin))\n",
    "\n",
    "_VRConfig = VRConfig.copy()\n",
    "_VRConfig['aggregate'] = aggregate_geometric\n",
    "_VRConfig['attack'] = zeroGradient\n",
    "w, path, variancePath = FedSAGA(w0, **_VRConfig)\n",
    "\n",
    "record = {\n",
    "    **dataSetConfig,\n",
    "    'gamma': _VRConfig['gamma'],\n",
    "    'path': path,\n",
    "    'variancePath': variancePath,\n",
    "}\n",
    "\n",
    "with open(CACHE_DIR + 'SAGA_zeroGradient_gm', 'wb') as f:\n",
    "    pickle.dump(record, f)\n",
    "    \n",
    "axis = plt.axes()\n",
    "plt.plot(list(range(len(path))), logAxis(path, Fmin))\n",
    "axis.set_yscale('log')"
   ]
  },
  {
   "cell_type": "markdown",
   "metadata": {},
   "source": [
    "### SAGA - Krum"
   ]
  },
  {
   "cell_type": "code",
   "execution_count": null,
   "metadata": {
    "scrolled": false
   },
   "outputs": [],
   "source": [
    "torch.manual_seed(SEED)#为CPU设置随机种子\n",
    "# torch.cuda.manual_seed(seed)#为当前GPU设置随机种子\n",
    "# torch.cuda.manual_seed_all(seed)#为所有GPU设置随机种子\n",
    "\n",
    "log('Fmin={}'.format(Fmin))\n",
    "\n",
    "_VRConfig = VRConfig.copy()\n",
    "_VRConfig['aggregate'] = Krum_(nodeSize=dataSetConfig['honestNodeSize'], byzantineSize=0)\n",
    "_VRConfig['attack'] = None\n",
    "_VRConfig['byzantineSize'] = 0\n",
    "w, path = FedSAGA(w0, **_VRConfig)\n",
    "\n",
    "record = {\n",
    "    **dataSetConfig,\n",
    "    'gamma': _VRConfig['gamma'],\n",
    "    'path': path,\n",
    "}\n",
    "\n",
    "with open(CACHE_DIR + 'SAGA_baseline_krum', 'wb') as f:\n",
    "    pickle.dump(record, f)\n",
    "    \n",
    "axis = plt.axes()\n",
    "plt.plot(list(range(len(path))), logAxis(path, Fmin))\n",
    "axis.set_yscale('log')"
   ]
  },
  {
   "cell_type": "markdown",
   "metadata": {},
   "source": [
    "white"
   ]
  },
  {
   "cell_type": "code",
   "execution_count": null,
   "metadata": {
    "scrolled": false
   },
   "outputs": [],
   "source": [
    "torch.manual_seed(SEED)#为CPU设置随机种子\n",
    "# torch.cuda.manual_seed(seed)#为当前GPU设置随机种子\n",
    "# torch.cuda.manual_seed_all(seed)#为所有GPU设置随机种子\n",
    "\n",
    "log('Fmin={}'.format(Fmin))\n",
    "\n",
    "_VRConfig = VRConfig.copy()\n",
    "_VRConfig['aggregate'] = Krum_(nodeSize=dataSetConfig['honestNodeSize'], byzantineSize=dataSetConfig['byzantineNodeSize'])\n",
    "_VRConfig['attack'] = whiteNoise\n",
    "w, path, variancePath = FedSAGA(w0, **_VRConfig)\n",
    "\n",
    "record = {\n",
    "    **dataSetConfig,\n",
    "    'gamma': _VRConfig['gamma'],\n",
    "    'path': path,\n",
    "    'variancePath': variancePath,\n",
    "}\n",
    "with open(CACHE_DIR + 'SAGA_white_Krum', 'wb') as f:\n",
    "    pickle.dump(record, f)\n",
    "    \n",
    "axis = plt.axes()\n",
    "plt.plot(list(range(len(path))), logAxis(path, Fmin))\n",
    "axis.set_yscale('log')"
   ]
  },
  {
   "cell_type": "markdown",
   "metadata": {},
   "source": [
    "max"
   ]
  },
  {
   "cell_type": "code",
   "execution_count": null,
   "metadata": {
    "scrolled": false
   },
   "outputs": [],
   "source": [
    "torch.manual_seed(SEED)#为CPU设置随机种子\n",
    "# torch.cuda.manual_seed(seed)#为当前GPU设置随机种子\n",
    "# torch.cuda.manual_seed_all(seed)#为所有GPU设置随机种子\n",
    "\n",
    "log('Fmin={}'.format(Fmin))\n",
    "\n",
    "_VRConfig = VRConfig.copy()\n",
    "_VRConfig['aggregate'] = Krum_(nodeSize=dataSetConfig['honestNodeSize'], byzantineSize=dataSetConfig['byzantineNodeSize'])\n",
    "_VRConfig['attack'] = maxValue\n",
    "w, path, variancePath = FedSAGA(w0, **_VRConfig)\n",
    "\n",
    "record = {\n",
    "    **dataSetConfig,\n",
    "    'gamma': _VRConfig['gamma'],\n",
    "    'path': path,\n",
    "    'variancePath': variancePath,\n",
    "}\n",
    "\n",
    "with open(CACHE_DIR + 'SAGA_maxValue_Krum', 'wb') as f:\n",
    "    pickle.dump(record, f)\n",
    "    \n",
    "axis = plt.axes()\n",
    "plt.plot(list(range(len(path))), logAxis(path, Fmin))\n",
    "axis.set_yscale('log')"
   ]
  },
  {
   "cell_type": "markdown",
   "metadata": {},
   "source": [
    "zero Gradient"
   ]
  },
  {
   "cell_type": "code",
   "execution_count": null,
   "metadata": {
    "scrolled": true
   },
   "outputs": [],
   "source": [
    "torch.manual_seed(SEED)#为CPU设置随机种子\n",
    "# torch.cuda.manual_seed(seed)#为当前GPU设置随机种子\n",
    "# torch.cuda.manual_seed_all(seed)#为所有GPU设置随机种子\n",
    "\n",
    "log('Fmin={}'.format(Fmin))\n",
    "\n",
    "_VRConfig = VRConfig.copy()\n",
    "_VRConfig['aggregate'] = Krum_(nodeSize=dataSetConfig['honestNodeSize'], byzantineSize=dataSetConfig['byzantineNodeSize'])\n",
    "_VRConfig['attack'] = zeroGradient\n",
    "w, path, variancePath = FedSAGA(w0, **_VRConfig)\n",
    "\n",
    "record = {\n",
    "    **dataSetConfig,\n",
    "    'gamma': _VRConfig['gamma'],\n",
    "    'path': path,\n",
    "    'variancePath': variancePath,\n",
    "}\n",
    "\n",
    "with open(CACHE_DIR + 'SAGA_zeroGradient_Krum', 'wb') as f:\n",
    "    pickle.dump(record, f)\n",
    "    \n",
    "axis = plt.axes()\n",
    "plt.plot(list(range(len(path))), logAxis(path, Fmin))\n",
    "axis.set_yscale('log')"
   ]
  },
  {
   "cell_type": "markdown",
   "metadata": {},
   "source": [
    "### SAGA - Median"
   ]
  },
  {
   "cell_type": "code",
   "execution_count": null,
   "metadata": {
    "scrolled": false
   },
   "outputs": [],
   "source": [
    "torch.manual_seed(SEED)#为CPU设置随机种子\n",
    "# torch.cuda.manual_seed(seed)#为当前GPU设置随机种子\n",
    "# torch.cuda.manual_seed_all(seed)#为所有GPU设置随机种子\n",
    "\n",
    "log('Fmin={}'.format(Fmin))\n",
    "\n",
    "_VRConfig = VRConfig.copy()\n",
    "_VRConfig['aggregate'] = median\n",
    "_VRConfig['attack'] = None\n",
    "_VRConfig['byzantineSize'] = 0\n",
    "w, path = FedSAGA(w0, **_VRConfig)\n",
    "\n",
    "record = {\n",
    "    **dataSetConfig,\n",
    "    'gamma': _VRConfig['gamma'],\n",
    "    'path': path,\n",
    "}\n",
    "\n",
    "with open(CACHE_DIR + 'SAGA_baseline_median', 'wb') as f:\n",
    "    pickle.dump(record, f)\n",
    "    \n",
    "axis = plt.axes()\n",
    "plt.plot(list(range(len(path))), logAxis(path, Fmin))\n",
    "axis.set_yscale('log')"
   ]
  },
  {
   "cell_type": "markdown",
   "metadata": {},
   "source": [
    "white"
   ]
  },
  {
   "cell_type": "code",
   "execution_count": null,
   "metadata": {
    "scrolled": false
   },
   "outputs": [],
   "source": [
    "torch.manual_seed(SEED)#为CPU设置随机种子\n",
    "# torch.cuda.manual_seed(seed)#为当前GPU设置随机种子\n",
    "# torch.cuda.manual_seed_all(seed)#为所有GPU设置随机种子\n",
    "\n",
    "log('Fmin={}'.format(Fmin))\n",
    "\n",
    "_VRConfig = VRConfig.copy()\n",
    "_VRConfig['aggregate'] = median\n",
    "_VRConfig['attack'] = whiteNoise\n",
    "w, path = FedSAGA(w0, **_VRConfig)\n",
    "\n",
    "record = {\n",
    "    **dataSetConfig,\n",
    "    'gamma': _VRConfig['gamma'],\n",
    "    'path': path,\n",
    "}\n",
    "\n",
    "with open(CACHE_DIR + 'SAGA_white_median', 'wb') as f:\n",
    "    pickle.dump(record, f)\n",
    "    \n",
    "axis = plt.axes()\n",
    "plt.plot(list(range(len(path))), logAxis(path, Fmin))\n",
    "axis.set_yscale('log')"
   ]
  },
  {
   "cell_type": "markdown",
   "metadata": {},
   "source": [
    "max"
   ]
  },
  {
   "cell_type": "code",
   "execution_count": null,
   "metadata": {
    "scrolled": false
   },
   "outputs": [],
   "source": [
    "torch.manual_seed(SEED)#为CPU设置随机种子\n",
    "# torch.cuda.manual_seed(seed)#为当前GPU设置随机种子\n",
    "# torch.cuda.manual_seed_all(seed)#为所有GPU设置随机种子\n",
    "\n",
    "log('Fmin={}'.format(Fmin))\n",
    "\n",
    "_VRConfig = VRConfig.copy()\n",
    "_VRConfig['aggregate'] = median\n",
    "_VRConfig['attack'] = maxValue\n",
    "w, path = FedSAGA(w0, **_VRConfig)\n",
    "\n",
    "record = {\n",
    "    **dataSetConfig,\n",
    "    'gamma': _VRConfig['gamma'],\n",
    "    'path': path,\n",
    "}\n",
    "\n",
    "with open(CACHE_DIR + 'SAGA_maxValue_median', 'wb') as f:\n",
    "    pickle.dump(record, f)\n",
    "    \n",
    "axis = plt.axes()\n",
    "plt.plot(list(range(len(path))), logAxis(path, Fmin))\n",
    "axis.set_yscale('log')"
   ]
  },
  {
   "cell_type": "markdown",
   "metadata": {},
   "source": [
    "zero Gradient"
   ]
  },
  {
   "cell_type": "code",
   "execution_count": null,
   "metadata": {
    "scrolled": true
   },
   "outputs": [],
   "source": [
    "torch.manual_seed(SEED)#为CPU设置随机种子\n",
    "# torch.cuda.manual_seed(seed)#为当前GPU设置随机种子\n",
    "# torch.cuda.manual_seed_all(seed)#为所有GPU设置随机种子\n",
    "\n",
    "log('Fmin={}'.format(Fmin))\n",
    "\n",
    "_VRConfig = VRConfig.copy()\n",
    "_VRConfig['aggregate'] = median\n",
    "_VRConfig['attack'] = zeroGradient\n",
    "w, path = FedSAGA(w0, **_VRConfig)\n",
    "\n",
    "record = {\n",
    "    **dataSetConfig,\n",
    "    'gamma': _VRConfig['gamma'],\n",
    "    'path': path,\n",
    "}\n",
    "\n",
    "with open(CACHE_DIR + 'SAGA_zeroGradient_median', 'wb') as f:\n",
    "    pickle.dump(record, f)\n",
    "    \n",
    "axis = plt.axes()\n",
    "plt.plot(list(range(len(path))), logAxis(path, Fmin))\n",
    "axis.set_yscale('log')"
   ]
  }
 ],
 "metadata": {
  "kernelspec": {
   "display_name": "Python 3",
   "language": "python",
   "name": "python3"
  },
  "language_info": {
   "codemirror_mode": {
    "name": "ipython",
    "version": 3
   },
   "file_extension": ".py",
   "mimetype": "text/x-python",
   "name": "python",
   "nbconvert_exporter": "python",
   "pygments_lexer": "ipython3",
   "version": "3.7.4"
  },
  "varInspector": {
   "cols": {
    "lenName": 16,
    "lenType": 16,
    "lenVar": 40
   },
   "kernels_config": {
    "python": {
     "delete_cmd_postfix": "",
     "delete_cmd_prefix": "del ",
     "library": "var_list.py",
     "varRefreshCmd": "print(var_dic_list())"
    },
    "r": {
     "delete_cmd_postfix": ") ",
     "delete_cmd_prefix": "rm(",
     "library": "var_list.r",
     "varRefreshCmd": "cat(var_dic_list()) "
    }
   },
   "position": {
    "height": "713px",
    "left": "1485px",
    "right": "20px",
    "top": "120px",
    "width": "350px"
   },
   "types_to_exclude": [
    "module",
    "function",
    "builtin_function_or_method",
    "instance",
    "_Feature"
   ],
   "window_display": false
  }
 },
 "nbformat": 4,
 "nbformat_minor": 2
}
